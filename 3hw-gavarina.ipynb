{
 "cells": [
  {
   "cell_type": "markdown",
   "metadata": {},
   "source": [
    "# Домашние задания по математической статистике\n",
    "\n",
    "### Гаварина Светлана, СКБ-171\n",
    "---\n",
    "\n",
    "# Домашнее задание 3.\n",
    "# Оценки\n"
   ]
  },
  {
   "cell_type": "markdown",
   "metadata": {},
   "source": [
    "---\n",
    "## 1. Нахождение выборочного среднего и выборочной дисперсии\n",
    "---"
   ]
  },
  {
   "cell_type": "markdown",
   "metadata": {},
   "source": [
    "#### Пусть в распределении Пуассона $\\lambda = 3$, в распределении Рэлея $ \\sigma = 3 $. Сгенерируем выборки:\n",
    "\n",
    "#### 1) Распределение Пуассона"
   ]
  },
  {
   "cell_type": "code",
   "execution_count": 11,
   "metadata": {},
   "outputs": [],
   "source": [
    "import random\n",
    "import numpy as np\n",
    "import math\n",
    "\n",
    "# функция генерации выборки\n",
    "def rand_Pois(lamb, n):\n",
    "    nums = []\n",
    "    for i in range(n):\n",
    "        p = math.exp(-lamb)\n",
    "        sp = 0\n",
    "        sp += p\n",
    "        u = random.uniform(0,1)\n",
    "        j = 0\n",
    "        while u > sp:\n",
    "            j += 1         # p_j\n",
    "            p *= lamb / j  # p_j / p_j-1 = lamb / j\n",
    "            sp += p\n",
    "        nums.append(j)\n",
    "    return nums\n",
    "\n",
    "lamb = 3\n",
    "\n",
    "pois5 = [] # Выборки объемом 5\n",
    "for i in range(5):\n",
    "    pois5.append(rand_Pois(lamb, 5))\n",
    "    \n",
    "pois10 = [] # Выборки объемом 10\n",
    "for i in range(5):\n",
    "    pois10.append(rand_Pois(lamb, 10))\n",
    "    \n",
    "pois100 = [] # Выборки объемом 100\n",
    "for i in range(5):\n",
    "    pois100.append(rand_Pois(lamb, 100))\n",
    "    \n",
    "pois1000 = [] # Выборки объемом 1000\n",
    "for i in range(5):\n",
    "    pois1000.append(rand_Pois(lamb, 1000))\n",
    "\n",
    "pois105 = [] # Выборки объемом 10 ** 5\n",
    "for i in range(5):\n",
    "    pois105.append(rand_Pois(lamb, 10 ** 5))"
   ]
  },
  {
   "cell_type": "markdown",
   "metadata": {},
   "source": [
    "#### 1) Распределение Рэлея"
   ]
  },
  {
   "cell_type": "code",
   "execution_count": 14,
   "metadata": {},
   "outputs": [],
   "source": [
    "def inv_f_Rayl(sigma, u):\n",
    "    return sigma * math.sqrt(-2 * math.log(u))\n",
    "\n",
    "# Функция генерации выборки\n",
    "def rand_Rayl(sigma, n):\n",
    "    nums = []\n",
    "    for i in range(n):\n",
    "        u = random.uniform(0, 1)\n",
    "        nums.append(inv_f_Rayl(sigma, u))\n",
    "    return nums"
   ]
  },
  {
   "cell_type": "code",
   "execution_count": 15,
   "metadata": {},
   "outputs": [],
   "source": [
    "sigma = 3\n",
    "\n",
    "rayl5 = [] # Выборки объемом 5\n",
    "for i in range(5):\n",
    "    rayl5.append(rand_Rayl(sigma, 5))\n",
    "    \n",
    "rayl10 = [] # Выборки объемом 10\n",
    "for i in range(5):\n",
    "    rayl10.append(rand_Rayl(sigma, 10))\n",
    "    \n",
    "rayl100 = [] # Выборки объемом 100\n",
    "for i in range(5):\n",
    "    rayl100.append(rand_Rayl(sigma, 100))\n",
    "    \n",
    "rayl1000 = [] # Выборки объемом 1000\n",
    "for i in range(5):\n",
    "    rayl1000.append(rand_Rayl(sigma, 1000))\n",
    "\n",
    "rayl105 = [] # Выборки объемом 10 ** 5\n",
    "for i in range(5):\n",
    "    rayl105.append(rand_Rayl(sigma, 10 ** 5))"
   ]
  },
  {
   "cell_type": "markdown",
   "metadata": {},
   "source": [
    "### 1.1 Выборочное среднее\n",
    "\n",
    "Является выборочным моментом первого порядка.\n",
    "\n",
    "$ \\overline{X}=\\dfrac{1}{n}\\sum\\limits_{i=1}^n x_i $, где $ n $ -- объем выборки.\n",
    "\n",
    "#### Свойства:"
   ]
  },
  {
   "cell_type": "markdown",
   "metadata": {},
   "source": []
  },
  {
   "cell_type": "markdown",
   "metadata": {},
   "source": [
    "#### 1) Распределение Пуассона"
   ]
  },
  {
   "cell_type": "code",
   "execution_count": 16,
   "metadata": {},
   "outputs": [
    {
     "name": "stdout",
     "output_type": "stream",
     "text": [
      "Для выборок объемом 5:\n",
      "   2.8  2.6  3.4  2.6  3.8\n",
      "Для выборок объемом 10:\n",
      "   2.2  3.9  3.1  2.3  2.8\n",
      "Для выборок объемом 100:\n",
      "   3.33  3.05  2.85  2.88  3.03\n",
      "Для выборок объемом 1000:\n",
      "   2.977  2.984  3.029  2.963  2.95\n",
      "Для выборок объемом 10 ** 5:\n",
      "   3.00181  3.01136  3.00943  2.99679  3.00291\n"
     ]
    }
   ],
   "source": [
    "print('Для выборок объемом 5:\\n ', *map(lambda x: np.mean(x), pois5), sep='  ')\n",
    "print('Для выборок объемом 10:\\n ', *map(lambda x: np.mean(x), pois10), sep='  ')\n",
    "print('Для выборок объемом 100:\\n ', *map(lambda x: np.mean(x), pois100), sep='  ')\n",
    "print('Для выборок объемом 1000:\\n ', *map(lambda x: np.mean(x), pois1000), sep='  ')\n",
    "print('Для выборок объемом 10 ** 5:\\n ', *map(lambda x: np.mean(x), pois105), sep='  ')"
   ]
  },
  {
   "cell_type": "markdown",
   "metadata": {},
   "source": [
    "#### Истинное значение\n",
    "\n",
    "Как было найдено в 1-й домашней работе, для распределения Пуассона $ E\\xi = \\lambda $. Так как $ \\lambda $ принята за 3, то $ E\\xi = 3 $. Как видно по результатам вычислений, с увеличением объема выборки выборочное среднее приближается к этому значению."
   ]
  },
  {
   "cell_type": "markdown",
   "metadata": {},
   "source": [
    "#### 2) Распределение Рэлея"
   ]
  },
  {
   "cell_type": "code",
   "execution_count": 53,
   "metadata": {},
   "outputs": [
    {
     "name": "stdout",
     "output_type": "stream",
     "text": [
      "Для выборок объемом 5:\n",
      "   3.5624209481518703  3.2934210287063053  5.276635835864406  3.750281721101402  3.524490363138516\n",
      "Для выборок объемом 10:\n",
      "   2.609797569703568  2.9304496790283996  3.151987487522151  3.680495352466637  3.850310393511532\n",
      "Для выборок объемом 100:\n",
      "   3.723206171929485  3.5646411978834793  4.1194711924310505  3.4753267269609434  3.779416578624157\n",
      "Для выборок объемом 1000:\n",
      "   3.655210696524361  3.8369266614237825  3.680694186556043  3.72105061890006  3.776698534432997\n",
      "Для выборок объемом 10 ** 5:\n",
      "   3.7461078392233293  3.769269689833529  3.763929052780362  3.764343301021873  3.7627415013574246\n"
     ]
    }
   ],
   "source": [
    "import tqdm\n",
    "print('Для выборок объемом 5:\\n ', *map(lambda x: np.mean(x), rayl5), sep='  ')\n",
    "print('Для выборок объемом 10:\\n ', *map(lambda x: np.mean(x), rayl10), sep='  ')\n",
    "print('Для выборок объемом 100:\\n ', *map(lambda x: np.mean(x), rayl100), sep='  ')\n",
    "print('Для выборок объемом 1000:\\n ', *map(lambda x: np.mean(x), rayl1000), sep='  ')\n",
    "print('Для выборок объемом 10 ** 5:\\n ', *map(lambda x: np.mean(x), rayl105), sep='  ')\n",
    "\n",
    "# rayl107 = [] # Выборки объемом 10 ** 7\n",
    "# for i in tqdm.tqdm(range(5)):\n",
    "#     rayl107.append(rand_Rayl(sigma, 10 ** 7))\n",
    "    \n",
    "# print('Для выборок объемом 107:\\n ', *map(lambda x: np.mean(x), rayl107), sep='  ')"
   ]
  },
  {
   "cell_type": "markdown",
   "metadata": {},
   "source": [
    "#### Истинное значение\n",
    "\n",
    "Как было найдено в 1-й домашней работе, для распределения Рэлея $ E\\xi = \\sqrt{\\dfrac{\\pi}{2}}\\sigma $. Так как $ \\sigma $ принята за 3, то $ E\\xi = \\sqrt{\\dfrac{\\pi}{2}}\\cdot 3 \\approx 3.75994 $."
   ]
  },
  {
   "cell_type": "markdown",
   "metadata": {},
   "source": [
    "### 1.2 Выборочная дисперсия\n",
    "\n",
    "Является центральным выборочным моментом 2 порядка.\n",
    "\n",
    "$ \\overline{S}^2 = \\dfrac{1}{n}\\sum\\limits_{i=1}^n(x_i - \\overline{x})^2 $, где $ \\overline{x} $ -- выборочное среднее.\n",
    "\n",
    "#### 1) Распределение Пуассона"
   ]
  },
  {
   "cell_type": "code",
   "execution_count": 17,
   "metadata": {},
   "outputs": [
    {
     "name": "stdout",
     "output_type": "stream",
     "text": [
      "Для выборок объемом 5:\n",
      "  [0.5599999999999999, 2.6399999999999997, 2.2399999999999998, 1.04, 2.56]\n",
      "Для выборок объемом 10:\n",
      "  [0.76, 4.89, 1.09, 4.8100000000000005, 3.96]\n",
      "Для выборок объемом 100:\n",
      "  [2.8411000000000026, 3.127499999999999, 3.1475000000000013, 2.5255999999999994, 2.9491000000000014]\n",
      "Для выборок объемом 100:\n",
      "  [3.0944710000000004, 3.067743999999995, 3.0441590000000294, 2.7696310000000057, 3.1894999999999887]\n",
      "Для выборок объемом 10 ** 5:\n",
      "  [3.0035067239009465, 3.0193909503981797, 2.985141075100871, 3.0320596959015016, 2.9879815319005254]\n"
     ]
    }
   ],
   "source": [
    "def s_variance(distr):\n",
    "    s_var = list()\n",
    "    for i in range(len(distr)):\n",
    "        s_mean = np.mean(distr[i])\n",
    "        l = list(map(lambda x: (x - s_mean) ** 2, distr[i]))\n",
    "        s_var.append(sum(l) / len(distr[i]))\n",
    "    return s_var\n",
    "\n",
    "print('Для выборок объемом 5:\\n ', s_variance(pois5))\n",
    "print('Для выборок объемом 10:\\n ', s_variance(pois10))\n",
    "print('Для выборок объемом 100:\\n ', s_variance(pois100))\n",
    "print('Для выборок объемом 100:\\n ', s_variance(pois1000))\n",
    "print('Для выборок объемом 10 ** 5:\\n ', s_variance(pois105))"
   ]
  },
  {
   "cell_type": "markdown",
   "metadata": {},
   "source": [
    "#### Истинное значение\n",
    "\n",
    "Для распределения Пуассона $ D\\xi = \\lambda $. Так как $ \\lambda $ принята за 3, то $ D\\xi = 3 $. "
   ]
  },
  {
   "cell_type": "markdown",
   "metadata": {},
   "source": [
    "#### 2) Распределение Рэлея"
   ]
  },
  {
   "cell_type": "code",
   "execution_count": 51,
   "metadata": {},
   "outputs": [
    {
     "name": "stdout",
     "output_type": "stream",
     "text": [
      "Для выборок объемом 5:\n",
      "  [0.9129958311401702, 2.0038177488492934, 5.763941843041226, 0.7479501839204801, 0.5590856200941927]\n",
      "Для выборок объемом 10:\n",
      "  [0.6020410735116275, 3.6422704608732532, 4.303697226292157, 2.7318341090993616, 3.6216979182069102]\n",
      "Для выборок объемом 100:\n",
      "  [4.618306408671995, 3.5196575535149917, 3.2053833550779878, 4.305766911479806, 3.3090196770078304]\n",
      "Для выборок объемом 100:\n",
      "  [3.704580449802722, 3.611422509590182, 3.834995354302082, 3.7781831086134643, 3.831993324672659]\n",
      "Для выборок объемом 10 ** 5:\n",
      "  [3.8869450835184303, 3.837586084773818, 3.8674238085117296, 3.8625819947574653, 3.840440421904141]\n"
     ]
    }
   ],
   "source": [
    "print('Для выборок объемом 5:\\n ', s_variance(rayl5))\n",
    "print('Для выборок объемом 10:\\n ', s_variance(rayl10))\n",
    "print('Для выборок объемом 100:\\n ', s_variance(rayl100))\n",
    "print('Для выборок объемом 100:\\n ', s_variance(rayl1000))\n",
    "print('Для выборок объемом 10 ** 5:\\n ', s_variance(rayl105))"
   ]
  },
  {
   "cell_type": "markdown",
   "metadata": {},
   "source": [
    "#### Истинное значение\n",
    "\n",
    "Для распределения Рэлея $ D\\xi =  \\left(2-\\dfrac{\\pi}{2}\\right)\\sigma^2  $. Так как $ \\sigma $ принята за 3, то $ D\\xi = \\left(2-\\dfrac{\\pi}{2}\\right)\\cdot 3^2 \\approx 3.86283$. "
   ]
  },
  {
   "cell_type": "markdown",
   "metadata": {},
   "source": [
    "### Сравнение с истинными значениями\n",
    "\n",
    "Все функции-оценки от выборок не зависят от параметров $\\lambda$ и $\\sigma$, и легко заметить, что при $n\\rightarrow \\infty$ приближаются к истинным значениям, то есть являются состоятельными.\n",
    "\n",
    "Может быть доказано утверждение о том, что если все элементы выборки $(x_1, \\dots, x_n) $ -- независимые, одинаково распределенные величины, то при $n\\rightarrow \\infty \\;\\;\\widehat{a}^k\\xrightarrow{P}M X_1^k$.\n",
    "\n",
    "- Рассмотрим статистику $S$. $S=\\int g(t)d\\widehat{F}_1(t)=\\dfrac{1}{n}\\sum\\limits_{i=1}^ng(x_i)$. По ЗБЧ $S\\xrightarrow{P}Mg(x_i)$. \n",
    "\n",
    "Условия утверждения выполнены для оценок $\\overline{X}, \\; \\overline{S}^2$."
   ]
  },
  {
   "cell_type": "markdown",
   "metadata": {},
   "source": [
    "---\n",
    "## 2. Нахождение параметров распределений событий\n",
    "---"
   ]
  },
  {
   "cell_type": "markdown",
   "metadata": {},
   "source": [
    "### 2.1 Распределение Пуассона\n",
    "\n",
    "Найдем оценку методом моментов.\n",
    "\n",
    "$\\alpha_1 = E\\xi = \\lambda$ -- первый момент.\n",
    "\n",
    "$\\widehat{\\alpha}_1 = \\overline{X}$ -- первый выборочный момент.\n",
    "\n",
    "Составим уравнение: $\\alpha_1 = \\widehat{\\alpha}_1 \\Rightarrow \\lambda = \\dfrac{1}{n}\\sum\\limits_{i=1}^n x_i = \\overline{X}$.\n",
    "\n",
    "То есть оценка параметра $\\lambda$ -- это выборочное среднее."
   ]
  },
  {
   "cell_type": "markdown",
   "metadata": {},
   "source": [
    "#### 2.1.1 Несмещенность оценки\n",
    "\n",
    "Оценка называется несмещенной, если ее мат.ожидание равно оцениваемому параметру: $ET(\\theta)=\\theta$\n",
    "\n",
    "Докажем, что $E\\overline(X)=\\lambda$, используя свойство мат.ожидания и то, что для распределения Пуассона $E\\xi=\\lambda$:\n",
    "\n",
    "$E\\overline{X}=E\\left(\\dfrac{1}{n}\\sum\\limits_{i=1}^n x_i\\right) = \\dfrac{1}{n}\\sum\\limits_{i=1}^n E(x_i) = \\dfrac{1}{n}\\sum\\limits_{i=1}^n \\lambda = \\dfrac{1}{n}\\cdot n \\cdot \\lambda = \\lambda$\n",
    "\n",
    "**Оценка $\\overline{X} $ несмещенная**"
   ]
  },
  {
   "cell_type": "markdown",
   "metadata": {},
   "source": [
    "#### 2.1.2 Состоятельность оценки\n",
    "\n",
    "Оценка называется состоятельной, если при росте объема выборки она сходится по вероятности к оцениваемому параметру: $T(\\theta)\\xrightarrow{P}\\theta, \\;\\; n\\rightarrow \\infty$.\n",
    "Как было доказано выше (пункт \"Сравнение с истинными значениемя\"), это верно согласно Закону Больших Чисел.\n",
    "\n",
    "**Оценка $\\overline{X}$ состоятельная**"
   ]
  },
  {
   "cell_type": "markdown",
   "metadata": {},
   "source": [
    "#### 2.1.3 Оптимальность оценки"
   ]
  },
  {
   "cell_type": "markdown",
   "metadata": {},
   "source": [
    "#### 2.1.4 Эффективность оценки"
   ]
  },
  {
   "cell_type": "markdown",
   "metadata": {},
   "source": []
  },
  {
   "cell_type": "markdown",
   "metadata": {},
   "source": [
    "### 2.2 Распределение Рэлея\n",
    "\n",
    "Найдем оценку методом моментов.\n",
    "\n",
    "$\\alpha_1 = E\\xi = \\sqrt{\\dfrac{\\pi}{2}}\\sigma$ -- первый момент.\n",
    "\n",
    "$\\widehat{\\alpha}_1 = \\overline{X}$ -- первый выборочный момент.\n",
    "\n",
    "Составим уравнение: $\\alpha_1 = \\widehat{\\alpha}_1 \\Rightarrow \\sqrt{\\dfrac{\\pi}{2}}\\sigma = \\dfrac{1}{n}\\sum\\limits_{i=1}^n x_i = \\overline{X} \\Rightarrow \\sigma = \\sqrt{\\dfrac{2}{\\pi}}\\overline{X}$\n",
    "\n",
    "$\\sigma = \\sqrt{\\dfrac{2}{\\pi}}\\overline{X}$ -- оценка параметра $\\sigma$."
   ]
  },
  {
   "cell_type": "markdown",
   "metadata": {},
   "source": [
    "#### 2.2.1 Несмещенность оценки\n",
    "\n",
    "Оценка называется несмещенной, если ее мат.ожидание равно оцениваемому параметру: $ET(\\theta)=\\theta$\n",
    "\n",
    "Для распределения Рэлея $E\\xi=\\sqrt{\\dfrac{\\pi}{2}}\\sigma$:\n",
    "\n",
    "$E{\\sqrt{\\dfrac{2}{\\pi}}}\\overline{X}=E\\left(\\dfrac{1}{n}\\cdot\\sqrt{\\dfrac{2}{\\pi}}\\sum\\limits_{i=1}^n x_i\\right) = \\dfrac{1}{n}\\cdot\\sqrt{\\dfrac{2}{\\pi}}\\sum\\limits_{i=1}^n E(x_i) = \\dfrac{1}{n}\\cdot \\sqrt{\\dfrac{2}{\\pi}} \\sum\\limits_{i=1}^n \\sqrt{\\dfrac{\\pi}{2}}\\sigma = \\dfrac{1}{n}\\cdot \\sqrt{\\dfrac{\\pi}{2}} \\cdot \\sqrt{\\dfrac{2}{\\pi}} \\cdot n \\cdot \\sigma = \\sigma$\n",
    "\n",
    "**Оценка $\\overline{X} $ несмещенная**"
   ]
  },
  {
   "cell_type": "markdown",
   "metadata": {},
   "source": [
    "---\n",
    "## 3. Работа с данными\n",
    "---"
   ]
  },
  {
   "cell_type": "markdown",
   "metadata": {},
   "source": [
    "#### 3.2 Распределение Рэлея\n",
    "\n",
    "Данные получены опытным путем в лучном тире. Каждая строчка -- серия выстрелов, элемент выборки -- расстояние от центра мишени до точки попадания стрелы в см."
   ]
  },
  {
   "cell_type": "code",
   "execution_count": 2,
   "metadata": {},
   "outputs": [],
   "source": [
    "my_rayl = [4,4,10,11,8,14,20]\n",
    "my_rayl += [11,17,15,14,18,22]\n",
    "my_rayl += [11,14.5,6,9,10,14]\n",
    "my_rayl += [10,6.3,8.2,5,8,12]\n",
    "my_rayl += [19.5,11,10,16.8,21,20]\n",
    "my_rayl += [18,9,9.8,12.1,13.8,15.6]\n",
    "my_rayl += [8,7.5,6,9.8,4.5,12.1]\n",
    "my_rayl += [2.5,3.5,10,11.5,10.8,18]\n",
    "my_rayl += [12,13,7,3,4.5,8.5]\n",
    "my_rayl += [2,6,8,10.5,11.3,23]"
   ]
  },
  {
   "cell_type": "code",
   "execution_count": 10,
   "metadata": {},
   "outputs": [
    {
     "name": "stdout",
     "output_type": "stream",
     "text": [
      "Длина выборки: 61 \n",
      "sigma через выборочное среднее: 8.784578213691875 \n",
      "sigma через выборочную дисперсию: 7.7990603905263365\n",
      "Примем sigma = 8.291819302109106\n",
      "Вероятность попадания в центр мишени (желтое поле радиусом 4 см): 0.10984209805458645\n",
      "Вероятность попадания в пределы красного поля (радиус 8): 0.3721322075830671\n",
      "Вероятность попадания в пределы синего поля (радиус 12): 0.6490837635849319\n"
     ]
    }
   ],
   "source": [
    "import numpy as np\n",
    "import math\n",
    "\n",
    "def F_rayl(x, sigma):\n",
    "    return 1 - math.exp(-(x ** 2) / (2 * sigma ** 2))\n",
    "\n",
    "s_mean = np.mean(my_rayl)  # Выборочное среднее\n",
    "sigma_mean = s_mean / (math.sqrt(math.pi / 2))  # Нахождение сигмы через выб.среднее\n",
    "variance = sum(list(map(lambda x: (x - s_mean) ** 2, my_rayl))) / len(my_rayl)\n",
    "sigma_var = math.sqrt(variance / (2 - math.pi / 2))\n",
    "print('Длина выборки:', len(my_rayl), '\\nsigma через выборочное среднее:', sigma_mean, '\\nsigma через выборочную дисперсию:', sigma_var)\n",
    "\n",
    "my_sigma = np.mean([sigma_mean, sigma_var])\n",
    "print('Примем sigma =', my_sigma)\n",
    "print('Вероятность попадания в центр мишени (желтое поле радиусом 4 см):', F_rayl(4, my_sigma))\n",
    "print('Вероятность попадания в пределы красного поля (радиус 8):', F_rayl(8, my_sigma))\n",
    "print('Вероятность попадания в пределы синего поля (радиус 12):', F_rayl(12, my_sigma))"
   ]
  },
  {
   "cell_type": "code",
   "execution_count": null,
   "metadata": {},
   "outputs": [],
   "source": []
  }
 ],
 "metadata": {
  "kernelspec": {
   "display_name": "Python 3",
   "language": "python",
   "name": "python3"
  },
  "language_info": {
   "codemirror_mode": {
    "name": "ipython",
    "version": 3
   },
   "file_extension": ".py",
   "mimetype": "text/x-python",
   "name": "python",
   "nbconvert_exporter": "python",
   "pygments_lexer": "ipython3",
   "version": "3.7.3"
  }
 },
 "nbformat": 4,
 "nbformat_minor": 4
}
