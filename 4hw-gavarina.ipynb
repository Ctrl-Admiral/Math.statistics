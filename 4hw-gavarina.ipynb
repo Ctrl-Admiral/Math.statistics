{
 "cells": [
  {
   "cell_type": "markdown",
   "metadata": {},
   "source": [
    "# Домашние задания по математической статистике\n",
    "\n",
    "### Гаварина Светлана, СКБ-171\n",
    "---\n",
    "\n",
    "# Домашнее задание 4.\n",
    "# Проверка статистических гипотез"
   ]
  },
  {
   "cell_type": "markdown",
   "metadata": {},
   "source": [
    "#### Пусть в распределении Пуассона $\\lambda = 3$, в распределении Рэлея $ \\sigma = 3 $. Сгенерируем выборки:\n",
    "\n",
    "#### 1) Распределение Пуассона"
   ]
  },
  {
   "cell_type": "code",
   "execution_count": 79,
   "metadata": {},
   "outputs": [],
   "source": [
    "import random\n",
    "import numpy as np\n",
    "import math\n",
    "\n",
    "# Функция вероятности (закон распределения) Пуассона\n",
    "def f_Pois(x, lamb):\n",
    "    return math.exp(-lamb) * lamb ** x / math.factorial(x)\n",
    "\n",
    "# функция генерации выборки\n",
    "def rand_Pois(lamb, n):\n",
    "    nums = []\n",
    "    for i in range(n):\n",
    "        p = math.exp(-lamb)\n",
    "        sp = 0\n",
    "        sp += p\n",
    "        u = random.uniform(0,1)\n",
    "        j = 0\n",
    "        while u > sp:\n",
    "            j += 1         # p_j\n",
    "            p *= lamb / j  # p_j / p_j-1 = lamb / j\n",
    "            sp += p\n",
    "        nums.append(j)\n",
    "    return nums"
   ]
  },
  {
   "cell_type": "code",
   "execution_count": 80,
   "metadata": {},
   "outputs": [],
   "source": [
    "lamb = 3\n",
    "\n",
    "pois10 = []\n",
    "pois100 = []\n",
    "pois1500 = []\n",
    "pois5000 = []\n",
    "pois105 = []\n",
    "# Все выборки сразу сделаем вариационными рядами для удобства дальнейших вычислений\n",
    "for i in range(5):\n",
    "    pois10.append(sorted(rand_Pois(lamb, 10)))\n",
    "    pois100.append(sorted(rand_Pois(lamb, 100)))\n",
    "    pois1500.append(sorted(rand_Pois(lamb, 1500)))\n",
    "    pois5000.append(sorted(rand_Pois(lamb, 5000)))\n",
    "    pois105.append(sorted(rand_Pois(lamb, 10**5)))"
   ]
  },
  {
   "cell_type": "markdown",
   "metadata": {},
   "source": [
    "#### 2) Распределение Рэлея"
   ]
  },
  {
   "cell_type": "code",
   "execution_count": 7,
   "metadata": {},
   "outputs": [],
   "source": [
    "# Закон распределения Рэлея\n",
    "def F_Rayl(x, sigma):\n",
    "    return 1 - math.exp(-(x ** 2) / (2 * sigma ** 2))\n",
    "\n",
    "def inv_f_Rayl(sigma, u):\n",
    "    return sigma * math.sqrt(-2 * math.log(u))\n",
    "\n",
    "# Функция генерации выборки\n",
    "def rand_Rayl(sigma, n):\n",
    "    nums = []\n",
    "    for i in range(n):\n",
    "        u = random.uniform(0, 1)\n",
    "        nums.append(inv_f_Rayl(sigma, u))\n",
    "    return nums"
   ]
  },
  {
   "cell_type": "code",
   "execution_count": 8,
   "metadata": {},
   "outputs": [],
   "source": [
    "sigma = 3\n",
    "\n",
    "rayl10 = []\n",
    "rayl100 = []\n",
    "rayl1500 = []\n",
    "rayl5000 = []\n",
    "rayl105 = []\n",
    "# Все выборки сразу сделаем вариационными рядами для удобства дальнейших вычислений\n",
    "for i in range(5):\n",
    "    rayl10.append(sorted(rand_Rayl(lamb, 10)))\n",
    "    rayl100.append(sorted(rand_Rayl(lamb, 100)))\n",
    "    rayl1500.append(sorted(rand_Rayl(lamb, 1500)))\n",
    "    rayl5000.append(sorted(rand_Rayl(lamb, 5000)))\n",
    "    rayl105.append(sorted(rand_Rayl(lamb, 10**5)))"
   ]
  },
  {
   "cell_type": "code",
   "execution_count": 9,
   "metadata": {},
   "outputs": [],
   "source": [
    "import matplotlib.pyplot as plt\n",
    "from bisect import bisect_right\n",
    "\n",
    "def emp(distr):\n",
    "    '''Эмпирическая функция, возвращает функцию, возвращающую набор y'''\n",
    "    n = len(distr)\n",
    "    yy = []\n",
    "    count = 0\n",
    "    for i, val in enumerate(distr):\n",
    "        if not count:\n",
    "            prev = val\n",
    "        if prev == val:\n",
    "            count += 1\n",
    "        else:\n",
    "            yy += count * [i / n]\n",
    "            prev = val\n",
    "            count = 1\n",
    "    yy += count * [i / n]\n",
    "    def emp_yy(x, distr=distr, yy=yy):\n",
    "        if x < distr[0]:\n",
    "            return 0.\n",
    "        return yy[bisect_right(distr, x) - 1]\n",
    "    return emp_yy"
   ]
  },
  {
   "cell_type": "code",
   "execution_count": 10,
   "metadata": {},
   "outputs": [],
   "source": [
    "def show_emp(distrs, is_discr):\n",
    "    '''Рисует графики эмпирических функций для 5 распределений'''\n",
    "    fig, ax = plt.subplots(1, 5, figsize=(25, 4))\n",
    "    for i, v in enumerate(distrs):\n",
    "        emp_d = emp(v)\n",
    "        if is_discr:\n",
    "            xx = range(max(v) + 1)\n",
    "            yy = [emp_d(x) for x in xx]\n",
    "            ax[i].bar(xx, yy, alpha = 0.5, color = 'DarkCyan', align = 'center', width=1)\n",
    "        else:\n",
    "            xx = np.arange(0, max(v) + 1, 0.1)\n",
    "            yy = [emp_d(x) for x in xx]\n",
    "            ax[i].plot(xx, yy, color = 'DarkCyan')\n",
    "        ax[i].set_title('Выборка объемом %r'%len(v))"
   ]
  },
  {
   "cell_type": "markdown",
   "metadata": {},
   "source": [
    "---\n",
    "## 1. Проверка гипотез о виде распределения\n",
    "---"
   ]
  },
  {
   "cell_type": "markdown",
   "metadata": {},
   "source": [
    "### 1.1. Критерий хи-квадрат К. Пирсона\n",
    "\n",
    "Критерий хи-квадрат считается одним из самых универсальных методов проверки статистических гипотез. В качестве **меры отклонения** эмпирических данных от гипотетических берется величина $\\chi^2 = \\sum\\limits_{i=1}^N \\dfrac{(v_i - np_i)^2}{np_i},\\;\\; v=(v_1\\dots v_N) $ -- вектор частот, полученный из выборки, $p=(p_1 \\dots p_N)$ -- заданный вероятностный вектор, рассчитанный по предполагаемому распределению, наблюдаемая величина $\\xi$ принимает значения от 1 до $N$ (для дискретных величин). Выборка разбивается на N интервалов.\n",
    "\n",
    "Данная статистика при $n\\rightarrow \\infty$ имеет $\\chi^2$-распределение с $k=N-r-1$, где $r$ -- число параметров распределения, $N$ -- число интервалов (после объединения, см. далее). Это накладывает ограничение на объем выборки при использовании данного критерия: при разбиении ее на интервалы в каждом должно быть не менее 5 величин, в противном случае интервалы объединяются. Однако для выборок очень малых объемов (например, 10) это бессмысленно: в каждом интервале соль мало величин, что для достижения пяти штук в каждом придется объединять их в 1-2 интервала. Следовательно, k будет принимать в том числе отрицательные значения, что невозможно.\n",
    "\n",
    ">Число интервалов будем искать по формуле Старджесса: $N = \\log_2{n} + 1$ для непрерывного распределения. Для дискретного примем N за максимальный элемент выборки.\n",
    "\n",
    "Для выбранного уровня значимости по таблице распределения $\\chi^2$ находится критическое значение $\\chi^2_{\\alpha; k}$. Если $\\chi^2 > \\chi^2_{\\alpha;k}$, то принятая гипотеза $H_0$ отвергается, в противном случае принимается.\n",
    "\n",
    ">**Достоинство** данного критерия в том, что он универсален и подходит для исследования как дискретных, так и непрерывных величин. __Недостаток__ же заключается в зависимости от объема выборки, так как статистика имеет $\\chi^2$-распределение только при $n\\rightarrow \\infty$."
   ]
  },
  {
   "cell_type": "code",
   "execution_count": 2,
   "metadata": {},
   "outputs": [],
   "source": [
    "import math\n",
    "\n",
    "def p_v(distr, is_discr, par):\n",
    "    '''\n",
    "    Функция ищет вектора v=(v1...vN) эмп.частот и p=(p1...pN) теоретич. частот для распределений Пуассона и Рэлея\n",
    "    '''\n",
    "    p = list()\n",
    "    v = list()\n",
    "    n = len(distr)\n",
    "    if is_discr:\n",
    "        N = max(distr)\n",
    "        for i in range(N + 1):\n",
    "            v.append(distr.count(i))\n",
    "            p.append(f_Pois(i, par))\n",
    "    else:\n",
    "        N = int(math.log(n, 2) + 1)\n",
    "        end = math.ceil(max(distr))\n",
    "#         print('Увелич. max:', end)\n",
    "        step0 = math.floor(end / N)\n",
    "        step = step0 if step0 != 0 else 1\n",
    "#         print('Шаг:', step)\n",
    "        prev_i = 0\n",
    "        ind = 0\n",
    "        for i in range(step, end, step):\n",
    "            count = 0\n",
    "            while (ind < n) and (distr[ind] <= i):\n",
    "                count += 1\n",
    "                ind += 1\n",
    "            v.append(count)\n",
    "            p.append(F_Rayl(i, par) - F_Rayl(prev_i, par))\n",
    "            prev_i = i\n",
    "    return p, v\n",
    " \n",
    "def correct_p_v(p, v):\n",
    "    '''\n",
    "    Функция корректирует вектора p и v: если частота в интервале < 5, объединяем интервал с предыдущим|следующим.\n",
    "    '''\n",
    "#     print('Кол-во первичных интервалов', len(v))\n",
    "    for i in range(len(v)):\n",
    "        while (i < len(v)) and v[i] < 5:\n",
    "#             print(v)\n",
    "            if (i+1) != len(v):\n",
    "                v[i] += v[i+1]\n",
    "                p[i] += p[i+1]\n",
    "                del v[i+1], p[i+1]\n",
    "            else:\n",
    "                v[i-1] += v[i]\n",
    "                p[i-1] += p[i]\n",
    "                del v[i], p[i]\n",
    "#     print('Интервалов после объединения:', len(v))\n",
    "    return p, v\n",
    "\n",
    "def chi2(distr, is_discr, par):\n",
    "    '''Функция вычисляет значение хи-квадрат, возвращает кол-во интервалов (нужно д/поиска квантилей)'''\n",
    "    chi = list()\n",
    "    n = len(distr)\n",
    "    p, v = p_v(distr, is_discr, par)\n",
    "#     p, v = correct_p_v(p, v)\n",
    "    for i in range(0, len(v)):\n",
    "        chi.append((v[i] - n * p[i]) ** 2 / (n * p[i]))\n",
    "    return len(p), sum(chi)"
   ]
  },
  {
   "cell_type": "code",
   "execution_count": 180,
   "metadata": {},
   "outputs": [],
   "source": [
    "import pandas as pd\n",
    "hi2_set = pd.read_csv('hi-2.csv', sep=';', dtype='float')\n",
    "\n",
    "def print_chi2(distr, is_discr, par, alpha):\n",
    "    n = len(distr)\n",
    "    N, chi = chi2(distr, is_discr, par)\n",
    "    k = N - 1 - 1\n",
    "    chik = hi2_set[str(alpha)][k-1]\n",
    "    print(f'hi^2 = {np.round(chi, 3):6}, hi^2_k = {np.round(chik, 3):6}', end=' ')\n",
    "    print(f'=> Т.к. hi^2 {\"≤\" if chi <= chik else \">\"} hi^2k, гипотеза H0 {\"не\" if chi > chik else \"  \"} принимается')"
   ]
  },
  {
   "cell_type": "markdown",
   "metadata": {},
   "source": [
    "---\n",
    "#### 1.1.1 Распределение Пуассона\n",
    "\n",
    "Возьмем по одной выборке каждого объема и построим график эмпирической функции распределения:"
   ]
  },
  {
   "cell_type": "code",
   "execution_count": 19,
   "metadata": {},
   "outputs": [
    {
     "data": {
      "image/png": "[encoded data removed]",
      "text/plain": [
       "<Figure size 1800x288 with 5 Axes>"
      ]
     },
     "metadata": {
      "needs_background": "light"
     },
     "output_type": "display_data"
    }
   ],
   "source": [
    "distrs_pois0= [pois10[0], pois100[0], pois1500[0], pois5000[0], pois105[0]]\n",
    "show_emp(distrs, True)"
   ]
  },
  {
   "cell_type": "markdown",
   "metadata": {},
   "source": [
    "По виду графиков можно предположить, что данные распределены по закону Пуассона с параметром $\\lambda=3$.\n",
    "\n",
    "Таким образом, гипотеза $H_0$: случайная величина Х распределена по закону Пуассона.\n",
    "\n",
    "Применим критерий хи-квадрат для уровней значимости $\\alpha=0.100$, $\\alpha=0.050$"
   ]
  },
  {
   "cell_type": "code",
   "execution_count": 181,
   "metadata": {},
   "outputs": [
    {
     "name": "stdout",
     "output_type": "stream",
     "text": [
      "\n",
      "========================== Для выборок объемом     10 =========================\n",
      "------------------------------- Для alpha =  0.1 ------------------------------\n",
      "hi^2 =   2.51, hi^2_k =  9.236 => Т.к. hi^2 ≤ hi^2k, гипотеза H0    принимается\n",
      "hi^2 =  6.626, hi^2_k =  9.236 => Т.к. hi^2 ≤ hi^2k, гипотеза H0    принимается\n",
      "hi^2 = 17.454, hi^2_k =  7.779 => Т.к. hi^2 > hi^2k, гипотеза H0 не принимается\n",
      "hi^2 = 41.691, hi^2_k = 13.362 => Т.к. hi^2 > hi^2k, гипотеза H0 не принимается\n",
      "hi^2 =  5.601, hi^2_k =  7.779 => Т.к. hi^2 ≤ hi^2k, гипотеза H0    принимается\n",
      "------------------------------- Для alpha = 0.05 ------------------------------\n",
      "hi^2 =   2.51, hi^2_k =  11.07 => Т.к. hi^2 ≤ hi^2k, гипотеза H0    принимается\n",
      "hi^2 =  6.626, hi^2_k =  11.07 => Т.к. hi^2 ≤ hi^2k, гипотеза H0    принимается\n",
      "hi^2 = 17.454, hi^2_k =  9.488 => Т.к. hi^2 > hi^2k, гипотеза H0 не принимается\n",
      "hi^2 = 41.691, hi^2_k = 15.507 => Т.к. hi^2 > hi^2k, гипотеза H0 не принимается\n",
      "hi^2 =  5.601, hi^2_k =  9.488 => Т.к. hi^2 ≤ hi^2k, гипотеза H0    принимается\n",
      "\n",
      "========================== Для выборок объемом    100 =========================\n",
      "------------------------------- Для alpha =  0.1 ------------------------------\n",
      "hi^2 = 11.163, hi^2_k = 12.017 => Т.к. hi^2 ≤ hi^2k, гипотеза H0    принимается\n",
      "hi^2 =  5.892, hi^2_k = 13.362 => Т.к. hi^2 ≤ hi^2k, гипотеза H0    принимается\n",
      "hi^2 = 18.008, hi^2_k = 14.684 => Т.к. hi^2 > hi^2k, гипотеза H0 не принимается\n",
      "hi^2 =  4.126, hi^2_k = 10.645 => Т.к. hi^2 ≤ hi^2k, гипотеза H0    принимается\n",
      "hi^2 =  8.699, hi^2_k = 13.362 => Т.к. hi^2 ≤ hi^2k, гипотеза H0    принимается\n",
      "------------------------------- Для alpha = 0.05 ------------------------------\n",
      "hi^2 = 11.163, hi^2_k = 14.067 => Т.к. hi^2 ≤ hi^2k, гипотеза H0    принимается\n",
      "hi^2 =  5.892, hi^2_k = 15.507 => Т.к. hi^2 ≤ hi^2k, гипотеза H0    принимается\n",
      "hi^2 = 18.008, hi^2_k = 16.919 => Т.к. hi^2 > hi^2k, гипотеза H0 не принимается\n",
      "hi^2 =  4.126, hi^2_k = 12.592 => Т.к. hi^2 ≤ hi^2k, гипотеза H0    принимается\n",
      "hi^2 =  8.699, hi^2_k = 15.507 => Т.к. hi^2 ≤ hi^2k, гипотеза H0    принимается\n",
      "\n",
      "========================== Для выборок объемом   1500 =========================\n",
      "------------------------------- Для alpha =  0.1 ------------------------------\n",
      "hi^2 = 13.495, hi^2_k = 14.684 => Т.к. hi^2 ≤ hi^2k, гипотеза H0    принимается\n",
      "hi^2 =  9.825, hi^2_k = 15.987 => Т.к. hi^2 ≤ hi^2k, гипотеза H0    принимается\n",
      "hi^2 =   9.49, hi^2_k = 14.684 => Т.к. hi^2 ≤ hi^2k, гипотеза H0    принимается\n",
      "hi^2 = 17.658, hi^2_k = 17.275 => Т.к. hi^2 > hi^2k, гипотеза H0 не принимается\n",
      "hi^2 = 15.381, hi^2_k = 14.684 => Т.к. hi^2 > hi^2k, гипотеза H0 не принимается\n",
      "------------------------------- Для alpha = 0.05 ------------------------------\n",
      "hi^2 = 13.495, hi^2_k = 16.919 => Т.к. hi^2 ≤ hi^2k, гипотеза H0    принимается\n",
      "hi^2 =  9.825, hi^2_k = 18.307 => Т.к. hi^2 ≤ hi^2k, гипотеза H0    принимается\n",
      "hi^2 =   9.49, hi^2_k = 16.919 => Т.к. hi^2 ≤ hi^2k, гипотеза H0    принимается\n",
      "hi^2 = 17.658, hi^2_k = 19.675 => Т.к. hi^2 ≤ hi^2k, гипотеза H0    принимается\n",
      "hi^2 = 15.381, hi^2_k = 16.919 => Т.к. hi^2 ≤ hi^2k, гипотеза H0    принимается\n",
      "\n",
      "========================== Для выборок объемом   5000 =========================\n",
      "------------------------------- Для alpha =  0.1 ------------------------------\n",
      "hi^2 = 13.079, hi^2_k = 15.987 => Т.к. hi^2 ≤ hi^2k, гипотеза H0    принимается\n",
      "hi^2 =  11.68, hi^2_k = 15.987 => Т.к. hi^2 ≤ hi^2k, гипотеза H0    принимается\n",
      "hi^2 =  7.193, hi^2_k = 17.275 => Т.к. hi^2 ≤ hi^2k, гипотеза H0    принимается\n",
      "hi^2 =   7.58, hi^2_k = 15.987 => Т.к. hi^2 ≤ hi^2k, гипотеза H0    принимается\n",
      "hi^2 = 12.152, hi^2_k = 15.987 => Т.к. hi^2 ≤ hi^2k, гипотеза H0    принимается\n",
      "------------------------------- Для alpha = 0.05 ------------------------------\n",
      "hi^2 = 13.079, hi^2_k = 18.307 => Т.к. hi^2 ≤ hi^2k, гипотеза H0    принимается\n",
      "hi^2 =  11.68, hi^2_k = 18.307 => Т.к. hi^2 ≤ hi^2k, гипотеза H0    принимается\n",
      "hi^2 =  7.193, hi^2_k = 19.675 => Т.к. hi^2 ≤ hi^2k, гипотеза H0    принимается\n",
      "hi^2 =   7.58, hi^2_k = 18.307 => Т.к. hi^2 ≤ hi^2k, гипотеза H0    принимается\n",
      "hi^2 = 12.152, hi^2_k = 18.307 => Т.к. hi^2 ≤ hi^2k, гипотеза H0    принимается\n",
      "\n",
      "========================== Для выборок объемом 100000 =========================\n",
      "------------------------------- Для alpha =  0.1 ------------------------------\n",
      "hi^2 = 10.696, hi^2_k = 18.549 => Т.к. hi^2 ≤ hi^2k, гипотеза H0    принимается\n",
      "hi^2 = 12.504, hi^2_k = 18.549 => Т.к. hi^2 ≤ hi^2k, гипотеза H0    принимается\n",
      "hi^2 = 15.317, hi^2_k = 19.812 => Т.к. hi^2 ≤ hi^2k, гипотеза H0    принимается\n",
      "hi^2 = 11.064, hi^2_k = 18.549 => Т.к. hi^2 ≤ hi^2k, гипотеза H0    принимается\n",
      "hi^2 = 11.218, hi^2_k = 18.549 => Т.к. hi^2 ≤ hi^2k, гипотеза H0    принимается\n",
      "------------------------------- Для alpha = 0.05 ------------------------------\n",
      "hi^2 = 10.696, hi^2_k = 21.026 => Т.к. hi^2 ≤ hi^2k, гипотеза H0    принимается\n",
      "hi^2 = 12.504, hi^2_k = 21.026 => Т.к. hi^2 ≤ hi^2k, гипотеза H0    принимается\n",
      "hi^2 = 15.317, hi^2_k = 22.362 => Т.к. hi^2 ≤ hi^2k, гипотеза H0    принимается\n",
      "hi^2 = 11.064, hi^2_k = 21.026 => Т.к. hi^2 ≤ hi^2k, гипотеза H0    принимается\n",
      "hi^2 = 11.218, hi^2_k = 21.026 => Т.к. hi^2 ≤ hi^2k, гипотеза H0    принимается\n"
     ]
    }
   ],
   "source": [
    "alphas = [0.1, 0.05]\n",
    "distrs_pois = [pois10, pois100, pois1500, pois5000, pois105]\n",
    "            \n",
    "for distrs in distrs_pois:\n",
    "    print(f'\\n========================== Для выборок объемом {len(distrs[0]):6} =========================')\n",
    "    for alpha in alphas:\n",
    "        print(f'------------------------------- Для alpha = {alpha:4} ------------------------------')\n",
    "        for distr in distrs:\n",
    "            print_chi2(distr, True, 3, alpha)"
   ]
  },
  {
   "cell_type": "markdown",
   "metadata": {},
   "source": [
    "#### Изменив проверяемый параметр на заведомо неверный (например, 3.5), можно заметить, что на выборках малых объемов критерий дает противоречивые результаты, однако на больших выборках гипотеза однозначно отвергается."
   ]
  },
  {
   "cell_type": "markdown",
   "metadata": {},
   "source": [
    "**Сложная гипотеза**\n",
    "\n",
    "Гипотеза $H_0$ выглядит так:\n",
    "\n",
    "- Данные распределены по закону Пуассона с параметром, равным оценке максимального правдоподобия для этой выборки.\n",
    "\n",
    "В предыдущей домашней работе мы получили оценку методом максимального правдоподобия для параметра $\\widehat{\\lambda} = \\overline{X}$. Вычислим его для всех выборок и применим критерий хи-квадрат для получившихся оценок параметров:"
   ]
  },
  {
   "cell_type": "code",
   "execution_count": 182,
   "metadata": {},
   "outputs": [
    {
     "name": "stdout",
     "output_type": "stream",
     "text": [
      "\n",
      "========================== Для выборок объемом     10 =========================\n",
      "------------------------------- Для alpha =  0.1 ------------------------------\n",
      "hi^2 =  2.704, hi^2_k =  9.236 => Т.к. hi^2 ≤ hi^2k, гипотеза H0    принимается\n",
      "hi^2 =   5.89, hi^2_k =  9.236 => Т.к. hi^2 ≤ hi^2k, гипотеза H0    принимается\n",
      "hi^2 =  9.345, hi^2_k =  7.779 => Т.к. hi^2 > hi^2k, гипотеза H0 не принимается\n",
      "hi^2 = 13.381, hi^2_k = 13.362 => Т.к. hi^2 > hi^2k, гипотеза H0 не принимается\n",
      "hi^2 =  3.162, hi^2_k =  7.779 => Т.к. hi^2 ≤ hi^2k, гипотеза H0    принимается\n",
      "------------------------------- Для alpha = 0.05 ------------------------------\n",
      "hi^2 =  2.704, hi^2_k =  11.07 => Т.к. hi^2 ≤ hi^2k, гипотеза H0    принимается\n",
      "hi^2 =   5.89, hi^2_k =  11.07 => Т.к. hi^2 ≤ hi^2k, гипотеза H0    принимается\n",
      "hi^2 =  9.345, hi^2_k =  9.488 => Т.к. hi^2 ≤ hi^2k, гипотеза H0    принимается\n",
      "hi^2 = 13.381, hi^2_k = 15.507 => Т.к. hi^2 ≤ hi^2k, гипотеза H0    принимается\n",
      "hi^2 =  3.162, hi^2_k =  9.488 => Т.к. hi^2 ≤ hi^2k, гипотеза H0    принимается\n",
      "\n",
      "========================== Для выборок объемом    100 =========================\n",
      "------------------------------- Для alpha =  0.1 ------------------------------\n",
      "hi^2 = 11.066, hi^2_k = 12.017 => Т.к. hi^2 ≤ hi^2k, гипотеза H0    принимается\n",
      "hi^2 =  5.743, hi^2_k = 13.362 => Т.к. hi^2 ≤ hi^2k, гипотеза H0    принимается\n",
      "hi^2 = 16.641, hi^2_k = 14.684 => Т.к. hi^2 > hi^2k, гипотеза H0 не принимается\n",
      "hi^2 =  1.795, hi^2_k = 10.645 => Т.к. hi^2 ≤ hi^2k, гипотеза H0    принимается\n",
      "hi^2 =   8.79, hi^2_k = 13.362 => Т.к. hi^2 ≤ hi^2k, гипотеза H0    принимается\n",
      "------------------------------- Для alpha = 0.05 ------------------------------\n",
      "hi^2 = 11.066, hi^2_k = 14.067 => Т.к. hi^2 ≤ hi^2k, гипотеза H0    принимается\n",
      "hi^2 =  5.743, hi^2_k = 15.507 => Т.к. hi^2 ≤ hi^2k, гипотеза H0    принимается\n",
      "hi^2 = 16.641, hi^2_k = 16.919 => Т.к. hi^2 ≤ hi^2k, гипотеза H0    принимается\n",
      "hi^2 =  1.795, hi^2_k = 12.592 => Т.к. hi^2 ≤ hi^2k, гипотеза H0    принимается\n",
      "hi^2 =   8.79, hi^2_k = 15.507 => Т.к. hi^2 ≤ hi^2k, гипотеза H0    принимается\n",
      "\n",
      "========================== Для выборок объемом   1500 =========================\n",
      "------------------------------- Для alpha =  0.1 ------------------------------\n",
      "hi^2 =  13.57, hi^2_k = 14.684 => Т.к. hi^2 ≤ hi^2k, гипотеза H0    принимается\n",
      "hi^2 =  9.293, hi^2_k = 15.987 => Т.к. hi^2 ≤ hi^2k, гипотеза H0    принимается\n",
      "hi^2 =  9.549, hi^2_k = 14.684 => Т.к. hi^2 ≤ hi^2k, гипотеза H0    принимается\n",
      "hi^2 = 18.248, hi^2_k = 17.275 => Т.к. hi^2 > hi^2k, гипотеза H0 не принимается\n",
      "hi^2 = 15.553, hi^2_k = 14.684 => Т.к. hi^2 > hi^2k, гипотеза H0 не принимается\n",
      "------------------------------- Для alpha = 0.05 ------------------------------\n",
      "hi^2 =  13.57, hi^2_k = 16.919 => Т.к. hi^2 ≤ hi^2k, гипотеза H0    принимается\n",
      "hi^2 =  9.293, hi^2_k = 18.307 => Т.к. hi^2 ≤ hi^2k, гипотеза H0    принимается\n",
      "hi^2 =  9.549, hi^2_k = 16.919 => Т.к. hi^2 ≤ hi^2k, гипотеза H0    принимается\n",
      "hi^2 = 18.248, hi^2_k = 19.675 => Т.к. hi^2 ≤ hi^2k, гипотеза H0    принимается\n",
      "hi^2 = 15.553, hi^2_k = 16.919 => Т.к. hi^2 ≤ hi^2k, гипотеза H0    принимается\n",
      "\n",
      "========================== Для выборок объемом   5000 =========================\n",
      "------------------------------- Для alpha =  0.1 ------------------------------\n",
      "hi^2 = 10.515, hi^2_k = 15.987 => Т.к. hi^2 ≤ hi^2k, гипотеза H0    принимается\n",
      "hi^2 =  8.433, hi^2_k = 15.987 => Т.к. hi^2 ≤ hi^2k, гипотеза H0    принимается\n",
      "hi^2 =  7.193, hi^2_k = 17.275 => Т.к. hi^2 ≤ hi^2k, гипотеза H0    принимается\n",
      "hi^2 =  6.663, hi^2_k = 15.987 => Т.к. hi^2 ≤ hi^2k, гипотеза H0    принимается\n",
      "hi^2 = 12.041, hi^2_k = 15.987 => Т.к. hi^2 ≤ hi^2k, гипотеза H0    принимается\n",
      "------------------------------- Для alpha = 0.05 ------------------------------\n",
      "hi^2 = 10.515, hi^2_k = 18.307 => Т.к. hi^2 ≤ hi^2k, гипотеза H0    принимается\n",
      "hi^2 =  8.433, hi^2_k = 18.307 => Т.к. hi^2 ≤ hi^2k, гипотеза H0    принимается\n",
      "hi^2 =  7.193, hi^2_k = 19.675 => Т.к. hi^2 ≤ hi^2k, гипотеза H0    принимается\n",
      "hi^2 =  6.663, hi^2_k = 18.307 => Т.к. hi^2 ≤ hi^2k, гипотеза H0    принимается\n",
      "hi^2 = 12.041, hi^2_k = 18.307 => Т.к. hi^2 ≤ hi^2k, гипотеза H0    принимается\n",
      "\n",
      "========================== Для выборок объемом 100000 =========================\n",
      "------------------------------- Для alpha =  0.1 ------------------------------\n",
      "hi^2 =  10.69, hi^2_k = 18.549 => Т.к. hi^2 ≤ hi^2k, гипотеза H0    принимается\n",
      "hi^2 = 10.458, hi^2_k = 18.549 => Т.к. hi^2 ≤ hi^2k, гипотеза H0    принимается\n",
      "hi^2 = 14.842, hi^2_k = 19.812 => Т.к. hi^2 ≤ hi^2k, гипотеза H0    принимается\n",
      "hi^2 =  9.312, hi^2_k = 18.549 => Т.к. hi^2 ≤ hi^2k, гипотеза H0    принимается\n",
      "hi^2 = 11.087, hi^2_k = 18.549 => Т.к. hi^2 ≤ hi^2k, гипотеза H0    принимается\n",
      "------------------------------- Для alpha = 0.05 ------------------------------\n",
      "hi^2 =  10.69, hi^2_k = 21.026 => Т.к. hi^2 ≤ hi^2k, гипотеза H0    принимается\n",
      "hi^2 = 10.458, hi^2_k = 21.026 => Т.к. hi^2 ≤ hi^2k, гипотеза H0    принимается\n",
      "hi^2 = 14.842, hi^2_k = 22.362 => Т.к. hi^2 ≤ hi^2k, гипотеза H0    принимается\n",
      "hi^2 =  9.312, hi^2_k = 21.026 => Т.к. hi^2 ≤ hi^2k, гипотеза H0    принимается\n",
      "hi^2 = 11.087, hi^2_k = 21.026 => Т.к. hi^2 ≤ hi^2k, гипотеза H0    принимается\n"
     ]
    }
   ],
   "source": [
    "import numpy as np\n",
    "\n",
    "for distrs in distrs_pois:\n",
    "    print(f'\\n========================== Для выборок объемом {len(distrs[0]):6} =========================')\n",
    "    for alpha in alphas:\n",
    "        print(f'------------------------------- Для alpha = {alpha:4} ------------------------------')\n",
    "        for distr in distrs:\n",
    "            print_chi2(distr, True, np.mean(distr), alpha)"
   ]
  },
  {
   "cell_type": "markdown",
   "metadata": {},
   "source": [
    "---\n",
    "#### 1.1.2 Распределение Рэлея\n",
    "\n",
    "Возьмем выборки объемами 10, 100, 1500, 5000, 10^5 и построим графики Э.Ф.Р. для одной выборки каждого размера:"
   ]
  },
  {
   "cell_type": "code",
   "execution_count": 44,
   "metadata": {},
   "outputs": [
    {
     "data": {
      "image/png": "[encoded data removed]",
      "text/plain": [
       "<Figure size 1800x288 with 5 Axes>"
      ]
     },
     "metadata": {
      "needs_background": "light"
     },
     "output_type": "display_data"
    }
   ],
   "source": [
    "distrs_rayl0 = [rayl10[0], rayl100[0], rayl1500[0], rayl5000[0], rayl105[0]]\n",
    "\n",
    "show_emp(distrs_rayl0, False)"
   ]
  },
  {
   "cell_type": "markdown",
   "metadata": {},
   "source": [
    "По виду графиков можно предположить, что данные распределены по закону Рэлея с параметром $\\lambda\\approx3$.\n",
    "\n",
    "Таким образом, гипотеза $H_0$: случайная величина Х распределена по закону Рэлея.\n",
    "\n",
    "Применим критерий хи-квадрат для уровней значимости $\\alpha=0.100$, $\\alpha=0.050$"
   ]
  },
  {
   "cell_type": "code",
   "execution_count": 183,
   "metadata": {},
   "outputs": [
    {
     "name": "stdout",
     "output_type": "stream",
     "text": [
      "\n",
      "========================== Для выборок объемом     10 =========================\n",
      "------------------------------- Для alpha =  0.1 ------------------------------\n",
      "hi^2 =  4.746, hi^2_k =  6.251 => Т.к. hi^2 ≤ hi^2k, гипотеза H0    принимается\n",
      "hi^2 =  3.177, hi^2_k =  6.251 => Т.к. hi^2 ≤ hi^2k, гипотеза H0    принимается\n",
      "hi^2 =  1.175, hi^2_k =  6.251 => Т.к. hi^2 ≤ hi^2k, гипотеза H0    принимается\n",
      "hi^2 =  3.293, hi^2_k =  6.251 => Т.к. hi^2 ≤ hi^2k, гипотеза H0    принимается\n",
      "hi^2 =  3.324, hi^2_k =  4.605 => Т.к. hi^2 ≤ hi^2k, гипотеза H0    принимается\n",
      "------------------------------- Для alpha = 0.05 ------------------------------\n",
      "hi^2 =  4.746, hi^2_k =  7.815 => Т.к. hi^2 ≤ hi^2k, гипотеза H0    принимается\n",
      "hi^2 =  3.177, hi^2_k =  7.815 => Т.к. hi^2 ≤ hi^2k, гипотеза H0    принимается\n",
      "hi^2 =  1.175, hi^2_k =  7.815 => Т.к. hi^2 ≤ hi^2k, гипотеза H0    принимается\n",
      "hi^2 =  3.293, hi^2_k =  7.815 => Т.к. hi^2 ≤ hi^2k, гипотеза H0    принимается\n",
      "hi^2 =  3.324, hi^2_k =  5.991 => Т.к. hi^2 ≤ hi^2k, гипотеза H0    принимается\n",
      "\n",
      "========================== Для выборок объемом    100 =========================\n",
      "------------------------------- Для alpha =  0.1 ------------------------------\n",
      "hi^2 =  3.811, hi^2_k = 12.017 => Т.к. hi^2 ≤ hi^2k, гипотеза H0    принимается\n",
      "hi^2 =  5.709, hi^2_k = 13.362 => Т.к. hi^2 ≤ hi^2k, гипотеза H0    принимается\n",
      "hi^2 = 10.857, hi^2_k = 12.017 => Т.к. hi^2 ≤ hi^2k, гипотеза H0    принимается\n",
      "hi^2 =  4.148, hi^2_k = 12.017 => Т.к. hi^2 ≤ hi^2k, гипотеза H0    принимается\n",
      "hi^2 =  6.163, hi^2_k = 12.017 => Т.к. hi^2 ≤ hi^2k, гипотеза H0    принимается\n",
      "------------------------------- Для alpha = 0.05 ------------------------------\n",
      "hi^2 =  3.811, hi^2_k = 14.067 => Т.к. hi^2 ≤ hi^2k, гипотеза H0    принимается\n",
      "hi^2 =  5.709, hi^2_k = 15.507 => Т.к. hi^2 ≤ hi^2k, гипотеза H0    принимается\n",
      "hi^2 = 10.857, hi^2_k = 14.067 => Т.к. hi^2 ≤ hi^2k, гипотеза H0    принимается\n",
      "hi^2 =  4.148, hi^2_k = 14.067 => Т.к. hi^2 ≤ hi^2k, гипотеза H0    принимается\n",
      "hi^2 =  6.163, hi^2_k = 14.067 => Т.к. hi^2 ≤ hi^2k, гипотеза H0    принимается\n",
      "\n",
      "========================== Для выборок объемом   1500 =========================\n",
      "------------------------------- Для alpha =  0.1 ------------------------------\n",
      "hi^2 = 12.141, hi^2_k = 15.987 => Т.к. hi^2 ≤ hi^2k, гипотеза H0    принимается\n",
      "hi^2 = 20.258, hi^2_k = 14.684 => Т.к. hi^2 > hi^2k, гипотеза H0 не принимается\n",
      "hi^2 =  3.478, hi^2_k = 14.684 => Т.к. hi^2 ≤ hi^2k, гипотеза H0    принимается\n",
      "hi^2 =  9.228, hi^2_k = 13.362 => Т.к. hi^2 ≤ hi^2k, гипотеза H0    принимается\n",
      "hi^2 = 11.265, hi^2_k = 14.684 => Т.к. hi^2 ≤ hi^2k, гипотеза H0    принимается\n",
      "------------------------------- Для alpha = 0.05 ------------------------------\n",
      "hi^2 = 12.141, hi^2_k = 18.307 => Т.к. hi^2 ≤ hi^2k, гипотеза H0    принимается\n",
      "hi^2 = 20.258, hi^2_k = 16.919 => Т.к. hi^2 > hi^2k, гипотеза H0 не принимается\n",
      "hi^2 =  3.478, hi^2_k = 16.919 => Т.к. hi^2 ≤ hi^2k, гипотеза H0    принимается\n",
      "hi^2 =  9.228, hi^2_k = 15.507 => Т.к. hi^2 ≤ hi^2k, гипотеза H0    принимается\n",
      "hi^2 = 11.265, hi^2_k = 16.919 => Т.к. hi^2 ≤ hi^2k, гипотеза H0    принимается\n",
      "\n",
      "========================== Для выборок объемом   5000 =========================\n",
      "------------------------------- Для alpha =  0.1 ------------------------------\n",
      "hi^2 = 13.646, hi^2_k = 18.549 => Т.к. hi^2 ≤ hi^2k, гипотеза H0    принимается\n",
      "hi^2 = 11.358, hi^2_k = 15.987 => Т.к. hi^2 ≤ hi^2k, гипотеза H0    принимается\n",
      "hi^2 = 12.279, hi^2_k = 15.987 => Т.к. hi^2 ≤ hi^2k, гипотеза H0    принимается\n",
      "hi^2 =  8.719, hi^2_k = 15.987 => Т.к. hi^2 ≤ hi^2k, гипотеза H0    принимается\n",
      "hi^2 =  5.792, hi^2_k = 15.987 => Т.к. hi^2 ≤ hi^2k, гипотеза H0    принимается\n",
      "------------------------------- Для alpha = 0.05 ------------------------------\n",
      "hi^2 = 13.646, hi^2_k = 21.026 => Т.к. hi^2 ≤ hi^2k, гипотеза H0    принимается\n",
      "hi^2 = 11.358, hi^2_k = 18.307 => Т.к. hi^2 ≤ hi^2k, гипотеза H0    принимается\n",
      "hi^2 = 12.279, hi^2_k = 18.307 => Т.к. hi^2 ≤ hi^2k, гипотеза H0    принимается\n",
      "hi^2 =  8.719, hi^2_k = 18.307 => Т.к. hi^2 ≤ hi^2k, гипотеза H0    принимается\n",
      "hi^2 =  5.792, hi^2_k = 18.307 => Т.к. hi^2 ≤ hi^2k, гипотеза H0    принимается\n",
      "\n",
      "========================== Для выборок объемом 100000 =========================\n",
      "------------------------------- Для alpha =  0.1 ------------------------------\n",
      "hi^2 = 18.766, hi^2_k = 18.549 => Т.к. hi^2 > hi^2k, гипотеза H0 не принимается\n",
      "hi^2 =  9.807, hi^2_k = 18.549 => Т.к. hi^2 ≤ hi^2k, гипотеза H0    принимается\n",
      "hi^2 =  11.98, hi^2_k = 19.812 => Т.к. hi^2 ≤ hi^2k, гипотеза H0    принимается\n",
      "hi^2 =  7.755, hi^2_k = 18.549 => Т.к. hi^2 ≤ hi^2k, гипотеза H0    принимается\n",
      "hi^2 = 16.616, hi^2_k = 18.549 => Т.к. hi^2 ≤ hi^2k, гипотеза H0    принимается\n",
      "------------------------------- Для alpha = 0.05 ------------------------------\n",
      "hi^2 = 18.766, hi^2_k = 21.026 => Т.к. hi^2 ≤ hi^2k, гипотеза H0    принимается\n",
      "hi^2 =  9.807, hi^2_k = 21.026 => Т.к. hi^2 ≤ hi^2k, гипотеза H0    принимается\n",
      "hi^2 =  11.98, hi^2_k = 22.362 => Т.к. hi^2 ≤ hi^2k, гипотеза H0    принимается\n",
      "hi^2 =  7.755, hi^2_k = 21.026 => Т.к. hi^2 ≤ hi^2k, гипотеза H0    принимается\n",
      "hi^2 = 16.616, hi^2_k = 21.026 => Т.к. hi^2 ≤ hi^2k, гипотеза H0    принимается\n"
     ]
    }
   ],
   "source": [
    "alphas = [0.100, 0.050]\n",
    "distrs_rayl = [rayl10, rayl100, rayl1500, rayl5000, rayl105]\n",
    "\n",
    "for distrs in distrs_rayl:\n",
    "    print(f'\\n========================== Для выборок объемом {len(distrs[0]):6} =========================')\n",
    "    for alpha in alphas:\n",
    "        print(f'------------------------------- Для alpha = {alpha:4} ------------------------------')\n",
    "        for distr in distrs:\n",
    "            print_chi2(distr, False, 3, alpha)"
   ]
  },
  {
   "cell_type": "markdown",
   "metadata": {},
   "source": [
    "**Сложная гипотеза**\n",
    "\n",
    "Гипотеза $H_0$ выглядит так:\n",
    "\n",
    "- Данные распределены по закону Рэлея с параметром, равным оценке максимального правдоподобия для этой выборки.\n",
    "\n",
    "В предыдущей домашней работе мы получили оценку методом максимального правдоподобия для параметра $\\sigma$:\n",
    "\n",
    "$ \\widehat{\\sigma} = \\sqrt{\\dfrac{\\dfrac{1}{n}\\sum\\limits_{i=1}x_i^2}{2}}$\n",
    "\n",
    "Вычислим ее для каждой выборки и применим критерий хи-квадрат для оценок параметра:"
   ]
  },
  {
   "cell_type": "code",
   "execution_count": 184,
   "metadata": {},
   "outputs": [
    {
     "name": "stdout",
     "output_type": "stream",
     "text": [
      "\n",
      "========================== Для выборок объемом     10 =========================\n",
      "------------------------------- Для alpha =  0.1 ------------------------------\n",
      "hi^2 =  4.707, hi^2_k =  6.251 => Т.к. hi^2 ≤ hi^2k, гипотеза H0    принимается\n",
      "hi^2 =  3.146, hi^2_k =  6.251 => Т.к. hi^2 ≤ hi^2k, гипотеза H0    принимается\n",
      "hi^2 =  2.598, hi^2_k =  6.251 => Т.к. hi^2 ≤ hi^2k, гипотеза H0    принимается\n",
      "hi^2 =  1.695, hi^2_k =  6.251 => Т.к. hi^2 ≤ hi^2k, гипотеза H0    принимается\n",
      "hi^2 =    3.0, hi^2_k =  4.605 => Т.к. hi^2 ≤ hi^2k, гипотеза H0    принимается\n",
      "------------------------------- Для alpha = 0.05 ------------------------------\n",
      "hi^2 =  4.707, hi^2_k =  7.815 => Т.к. hi^2 ≤ hi^2k, гипотеза H0    принимается\n",
      "hi^2 =  3.146, hi^2_k =  7.815 => Т.к. hi^2 ≤ hi^2k, гипотеза H0    принимается\n",
      "hi^2 =  2.598, hi^2_k =  7.815 => Т.к. hi^2 ≤ hi^2k, гипотеза H0    принимается\n",
      "hi^2 =  1.695, hi^2_k =  7.815 => Т.к. hi^2 ≤ hi^2k, гипотеза H0    принимается\n",
      "hi^2 =    3.0, hi^2_k =  5.991 => Т.к. hi^2 ≤ hi^2k, гипотеза H0    принимается\n",
      "\n",
      "========================== Для выборок объемом    100 =========================\n",
      "------------------------------- Для alpha =  0.1 ------------------------------\n",
      "hi^2 =    3.7, hi^2_k = 12.017 => Т.к. hi^2 ≤ hi^2k, гипотеза H0    принимается\n",
      "hi^2 =  1.846, hi^2_k = 13.362 => Т.к. hi^2 ≤ hi^2k, гипотеза H0    принимается\n",
      "hi^2 = 10.883, hi^2_k = 12.017 => Т.к. hi^2 ≤ hi^2k, гипотеза H0    принимается\n",
      "hi^2 =  3.277, hi^2_k = 12.017 => Т.к. hi^2 ≤ hi^2k, гипотеза H0    принимается\n",
      "hi^2 =  6.214, hi^2_k = 12.017 => Т.к. hi^2 ≤ hi^2k, гипотеза H0    принимается\n",
      "------------------------------- Для alpha = 0.05 ------------------------------\n",
      "hi^2 =    3.7, hi^2_k = 14.067 => Т.к. hi^2 ≤ hi^2k, гипотеза H0    принимается\n",
      "hi^2 =  1.846, hi^2_k = 15.507 => Т.к. hi^2 ≤ hi^2k, гипотеза H0    принимается\n",
      "hi^2 = 10.883, hi^2_k = 14.067 => Т.к. hi^2 ≤ hi^2k, гипотеза H0    принимается\n",
      "hi^2 =  3.277, hi^2_k = 14.067 => Т.к. hi^2 ≤ hi^2k, гипотеза H0    принимается\n",
      "hi^2 =  6.214, hi^2_k = 14.067 => Т.к. hi^2 ≤ hi^2k, гипотеза H0    принимается\n",
      "\n",
      "========================== Для выборок объемом   1500 =========================\n",
      "------------------------------- Для alpha =  0.1 ------------------------------\n",
      "hi^2 = 12.245, hi^2_k = 15.987 => Т.к. hi^2 ≤ hi^2k, гипотеза H0    принимается\n",
      "hi^2 = 19.484, hi^2_k = 14.684 => Т.к. hi^2 > hi^2k, гипотеза H0 не принимается\n",
      "hi^2 =  3.163, hi^2_k = 14.684 => Т.к. hi^2 ≤ hi^2k, гипотеза H0    принимается\n",
      "hi^2 =  5.597, hi^2_k = 13.362 => Т.к. hi^2 ≤ hi^2k, гипотеза H0    принимается\n",
      "hi^2 =   10.7, hi^2_k = 14.684 => Т.к. hi^2 ≤ hi^2k, гипотеза H0    принимается\n",
      "------------------------------- Для alpha = 0.05 ------------------------------\n",
      "hi^2 = 12.245, hi^2_k = 18.307 => Т.к. hi^2 ≤ hi^2k, гипотеза H0    принимается\n",
      "hi^2 = 19.484, hi^2_k = 16.919 => Т.к. hi^2 > hi^2k, гипотеза H0 не принимается\n",
      "hi^2 =  3.163, hi^2_k = 16.919 => Т.к. hi^2 ≤ hi^2k, гипотеза H0    принимается\n",
      "hi^2 =  5.597, hi^2_k = 15.507 => Т.к. hi^2 ≤ hi^2k, гипотеза H0    принимается\n",
      "hi^2 =   10.7, hi^2_k = 16.919 => Т.к. hi^2 ≤ hi^2k, гипотеза H0    принимается\n",
      "\n",
      "========================== Для выборок объемом   5000 =========================\n",
      "------------------------------- Для alpha =  0.1 ------------------------------\n",
      "hi^2 = 12.818, hi^2_k = 18.549 => Т.к. hi^2 ≤ hi^2k, гипотеза H0    принимается\n",
      "hi^2 = 10.865, hi^2_k = 15.987 => Т.к. hi^2 ≤ hi^2k, гипотеза H0    принимается\n",
      "hi^2 = 11.693, hi^2_k = 15.987 => Т.к. hi^2 ≤ hi^2k, гипотеза H0    принимается\n",
      "hi^2 =  8.734, hi^2_k = 15.987 => Т.к. hi^2 ≤ hi^2k, гипотеза H0    принимается\n",
      "hi^2 =  5.665, hi^2_k = 15.987 => Т.к. hi^2 ≤ hi^2k, гипотеза H0    принимается\n",
      "------------------------------- Для alpha = 0.05 ------------------------------\n",
      "hi^2 = 12.818, hi^2_k = 21.026 => Т.к. hi^2 ≤ hi^2k, гипотеза H0    принимается\n",
      "hi^2 = 10.865, hi^2_k = 18.307 => Т.к. hi^2 ≤ hi^2k, гипотеза H0    принимается\n",
      "hi^2 = 11.693, hi^2_k = 18.307 => Т.к. hi^2 ≤ hi^2k, гипотеза H0    принимается\n",
      "hi^2 =  8.734, hi^2_k = 18.307 => Т.к. hi^2 ≤ hi^2k, гипотеза H0    принимается\n",
      "hi^2 =  5.665, hi^2_k = 18.307 => Т.к. hi^2 ≤ hi^2k, гипотеза H0    принимается\n",
      "\n",
      "========================== Для выборок объемом 100000 =========================\n",
      "------------------------------- Для alpha =  0.1 ------------------------------\n",
      "hi^2 =  14.64, hi^2_k = 18.549 => Т.к. hi^2 ≤ hi^2k, гипотеза H0    принимается\n",
      "hi^2 =  9.202, hi^2_k = 18.549 => Т.к. hi^2 ≤ hi^2k, гипотеза H0    принимается\n",
      "hi^2 = 11.955, hi^2_k = 19.812 => Т.к. hi^2 ≤ hi^2k, гипотеза H0    принимается\n",
      "hi^2 =  7.613, hi^2_k = 18.549 => Т.к. hi^2 ≤ hi^2k, гипотеза H0    принимается\n",
      "hi^2 = 13.335, hi^2_k = 18.549 => Т.к. hi^2 ≤ hi^2k, гипотеза H0    принимается\n",
      "------------------------------- Для alpha = 0.05 ------------------------------\n",
      "hi^2 =  14.64, hi^2_k = 21.026 => Т.к. hi^2 ≤ hi^2k, гипотеза H0    принимается\n",
      "hi^2 =  9.202, hi^2_k = 21.026 => Т.к. hi^2 ≤ hi^2k, гипотеза H0    принимается\n",
      "hi^2 = 11.955, hi^2_k = 22.362 => Т.к. hi^2 ≤ hi^2k, гипотеза H0    принимается\n",
      "hi^2 =  7.613, hi^2_k = 21.026 => Т.к. hi^2 ≤ hi^2k, гипотеза H0    принимается\n",
      "hi^2 = 13.335, hi^2_k = 21.026 => Т.к. hi^2 ≤ hi^2k, гипотеза H0    принимается\n"
     ]
    }
   ],
   "source": [
    "def estim_s(distr):\n",
    "    s2 = sum(map(lambda x: x ** 2, distr))\n",
    "    return math.sqrt(s2  / (2 * len(distr)))\n",
    "\n",
    "for distrs in distrs_rayl:\n",
    "    print(f'\\n========================== Для выборок объемом {len(distrs[0]):6} =========================')\n",
    "    for alpha in alphas:\n",
    "        print(f'------------------------------- Для alpha = {alpha:4} ------------------------------')\n",
    "        for distr in distrs:\n",
    "            print_chi2(distr, False, estim_s(distr), alpha)"
   ]
  },
  {
   "cell_type": "markdown",
   "metadata": {},
   "source": [
    "Итак, построим гипотезы $H_0$. Они будут одинаковы для всех трех выборок:\n",
    "\n",
    "- Данные распределены по закону Рэлея с параметром 3.\n",
    "\n",
    "Вычисления будут аналогичны проверкам простых гипотез."
   ]
  },
  {
   "cell_type": "markdown",
   "metadata": {},
   "source": [
    "---\n",
    "### 1.2 Критерий согласия Колмогорова-Смирнова (для непрерывного распределения)"
   ]
  },
  {
   "cell_type": "markdown",
   "metadata": {},
   "source": [
    "Данный критерий основан на сравнении Э.Ф.Р. с предполагаемой функцией распределения, а именно: в качестве __меры расхождения__ используется максимум абсолютного значения разности Э.Ф.Р. и Т.Ф.Р.\n",
    "\n",
    "Таким образом, $D_n=max\\left|F_n(x)-F(x)\\right|$ -- статистика критерия Колмогорова.\n",
    "\n",
    "При $n\\rightarrow\\infty$ $P(D_n\\sqrt{n} \\geqslant \\lambda)$ стремится к распределению Колмогорова $ P(\\lambda)=1 - \\sum\\limits_{k=-\\infty}^{+\\infty}(-1)^ke^{-2k^2\\lambda^2}$.\n",
    "\n",
    "Если $H_0$ -- гипотеза о виде распределения, то, чтобы определиться, принимать ее или нет, необходимо вычислить $\\lambda=D_n\\sqrt{n}$ и сравнить с $\\lambda_\\alpha$ (находится по таблице), где $\\alpha$ -- уровень значимости. Если $D_n\\sqrt{n} \\leq \\lambda$, то гипотеза принимается.\n",
    "\n",
    "Вместо $\\lambda=D_n \\sqrt{n}$ лучше использовать вид статистики с поправкой Большева: $\\lambda=S=\\dfrac{6nD_n+1}{6\\sqrt{n}}$, т.к. к распределению Колмогорова он сходится быстрее.\n",
    "\n",
    "**Достоинство** данного критерия в том, что он может применяться на выборках в том числе малых объемом. __Недостаток__ же -- возможность использования только для непрерывных распределений."
   ]
  },
  {
   "cell_type": "code",
   "execution_count": 190,
   "metadata": {},
   "outputs": [],
   "source": [
    "def n_dn (distr, par):\n",
    "    xx = np.arange(0, max(distr), 0.1)\n",
    "    empf = emp(distr)\n",
    "    fn = np.array([empf(x) for x in xx])\n",
    "    f = np.array([F_Rayl(x, par) for x in xx])\n",
    "    dn = max(abs(fn-f))\n",
    "    return dn\n",
    "\n",
    "l_set = {'0.1': 1.22, '0.05': 1.36}\n",
    "\n",
    "def print_kstest(distr, par, alpha):\n",
    "    n = len(distr)\n",
    "    dn = n_dn(distr, par)\n",
    "    s = (6 * n * dn + 1) / (6 * math.sqrt(n))\n",
    "    la = l_set[str(alpha)]\n",
    "    print(f'Dn = {dn:.3f}, l = S = {s:.3f}, la = {la:.3f}', end=' ')\n",
    "    print(f'=> Т.к. l {\"≤\" if s <= la else \">\"} la, гипотеза H0 {\"не\" if s > la else \"  \"} принимается')"
   ]
  },
  {
   "cell_type": "code",
   "execution_count": 60,
   "metadata": {},
   "outputs": [
    {
     "data": {
      "image/png": "[encoded data removed]",
      "text/plain": [
       "<Figure size 1800x288 with 5 Axes>"
      ]
     },
     "metadata": {
      "needs_background": "light"
     },
     "output_type": "display_data"
    }
   ],
   "source": [
    "distrs_rayl0 = [rayl10[0], rayl100[0], rayl1500[0], rayl5000[0], rayl105[0]]\n",
    "\n",
    "show_emp(distrs_rayl0, False)"
   ]
  },
  {
   "cell_type": "markdown",
   "metadata": {},
   "source": [
    "По виду графиков можно предположить, что данные распределены по закону Рэлея с параметром $\\lambda\\approx3$.\n",
    "\n",
    "Таким образом, гипотеза $H_0$: случайная величина Х распределена по закону Рэлея с параметром 3.\n",
    "\n",
    "Применим критерий Колмогорова-Смирнова для уровней значимости $\\alpha=0.1$, $\\alpha=0.05$:"
   ]
  },
  {
   "cell_type": "code",
   "execution_count": 191,
   "metadata": {},
   "outputs": [
    {
     "name": "stdout",
     "output_type": "stream",
     "text": [
      "\n",
      "========================== Для выборок объемом     10 ==========================\n",
      "------------------------------- Для alpha = 0.1  -------------------------------\n",
      "Dn = 0.217, l = S = 0.740, la = 1.220 => Т.к. l ≤ la, гипотеза H0    принимается\n",
      "Dn = 0.270, l = S = 0.908, la = 1.220 => Т.к. l ≤ la, гипотеза H0    принимается\n",
      "Dn = 0.160, l = S = 0.557, la = 1.220 => Т.к. l ≤ la, гипотеза H0    принимается\n",
      "Dn = 0.267, l = S = 0.898, la = 1.220 => Т.к. l ≤ la, гипотеза H0    принимается\n",
      "Dn = 0.211, l = S = 0.720, la = 1.220 => Т.к. l ≤ la, гипотеза H0    принимается\n",
      "------------------------------- Для alpha = 0.05 -------------------------------\n",
      "Dn = 0.217, l = S = 0.740, la = 1.360 => Т.к. l ≤ la, гипотеза H0    принимается\n",
      "Dn = 0.270, l = S = 0.908, la = 1.360 => Т.к. l ≤ la, гипотеза H0    принимается\n",
      "Dn = 0.160, l = S = 0.557, la = 1.360 => Т.к. l ≤ la, гипотеза H0    принимается\n",
      "Dn = 0.267, l = S = 0.898, la = 1.360 => Т.к. l ≤ la, гипотеза H0    принимается\n",
      "Dn = 0.211, l = S = 0.720, la = 1.360 => Т.к. l ≤ la, гипотеза H0    принимается\n",
      "\n",
      "========================== Для выборок объемом    100 ==========================\n",
      "------------------------------- Для alpha = 0.1  -------------------------------\n",
      "Dn = 0.066, l = S = 0.674, la = 1.220 => Т.к. l ≤ la, гипотеза H0    принимается\n",
      "Dn = 0.116, l = S = 1.177, la = 1.220 => Т.к. l ≤ la, гипотеза H0    принимается\n",
      "Dn = 0.097, l = S = 0.985, la = 1.220 => Т.к. l ≤ la, гипотеза H0    принимается\n",
      "Dn = 0.064, l = S = 0.655, la = 1.220 => Т.к. l ≤ la, гипотеза H0    принимается\n",
      "Dn = 0.066, l = S = 0.678, la = 1.220 => Т.к. l ≤ la, гипотеза H0    принимается\n",
      "------------------------------- Для alpha = 0.05 -------------------------------\n",
      "Dn = 0.066, l = S = 0.674, la = 1.360 => Т.к. l ≤ la, гипотеза H0    принимается\n",
      "Dn = 0.116, l = S = 1.177, la = 1.360 => Т.к. l ≤ la, гипотеза H0    принимается\n",
      "Dn = 0.097, l = S = 0.985, la = 1.360 => Т.к. l ≤ la, гипотеза H0    принимается\n",
      "Dn = 0.064, l = S = 0.655, la = 1.360 => Т.к. l ≤ la, гипотеза H0    принимается\n",
      "Dn = 0.066, l = S = 0.678, la = 1.360 => Т.к. l ≤ la, гипотеза H0    принимается\n",
      "\n",
      "========================== Для выборок объемом   1500 ==========================\n",
      "------------------------------- Для alpha = 0.1  -------------------------------\n",
      "Dn = 0.017, l = S = 0.657, la = 1.220 => Т.к. l ≤ la, гипотеза H0    принимается\n",
      "Dn = 0.025, l = S = 0.960, la = 1.220 => Т.к. l ≤ la, гипотеза H0    принимается\n",
      "Dn = 0.021, l = S = 0.831, la = 1.220 => Т.к. l ≤ la, гипотеза H0    принимается\n",
      "Dn = 0.026, l = S = 1.002, la = 1.220 => Т.к. l ≤ la, гипотеза H0    принимается\n",
      "Dn = 0.016, l = S = 0.637, la = 1.220 => Т.к. l ≤ la, гипотеза H0    принимается\n",
      "------------------------------- Для alpha = 0.05 -------------------------------\n",
      "Dn = 0.017, l = S = 0.657, la = 1.360 => Т.к. l ≤ la, гипотеза H0    принимается\n",
      "Dn = 0.025, l = S = 0.960, la = 1.360 => Т.к. l ≤ la, гипотеза H0    принимается\n",
      "Dn = 0.021, l = S = 0.831, la = 1.360 => Т.к. l ≤ la, гипотеза H0    принимается\n",
      "Dn = 0.026, l = S = 1.002, la = 1.360 => Т.к. l ≤ la, гипотеза H0    принимается\n",
      "Dn = 0.016, l = S = 0.637, la = 1.360 => Т.к. l ≤ la, гипотеза H0    принимается\n",
      "\n",
      "========================== Для выборок объемом   5000 ==========================\n",
      "------------------------------- Для alpha = 0.1  -------------------------------\n",
      "Dn = 0.010, l = S = 0.734, la = 1.220 => Т.к. l ≤ la, гипотеза H0    принимается\n",
      "Dn = 0.010, l = S = 0.718, la = 1.220 => Т.к. l ≤ la, гипотеза H0    принимается\n",
      "Dn = 0.011, l = S = 0.784, la = 1.220 => Т.к. l ≤ la, гипотеза H0    принимается\n",
      "Dn = 0.007, l = S = 0.469, la = 1.220 => Т.к. l ≤ la, гипотеза H0    принимается\n",
      "Dn = 0.008, l = S = 0.596, la = 1.220 => Т.к. l ≤ la, гипотеза H0    принимается\n",
      "------------------------------- Для alpha = 0.05 -------------------------------\n",
      "Dn = 0.010, l = S = 0.734, la = 1.360 => Т.к. l ≤ la, гипотеза H0    принимается\n",
      "Dn = 0.010, l = S = 0.718, la = 1.360 => Т.к. l ≤ la, гипотеза H0    принимается\n",
      "Dn = 0.011, l = S = 0.784, la = 1.360 => Т.к. l ≤ la, гипотеза H0    принимается\n",
      "Dn = 0.007, l = S = 0.469, la = 1.360 => Т.к. l ≤ la, гипотеза H0    принимается\n",
      "Dn = 0.008, l = S = 0.596, la = 1.360 => Т.к. l ≤ la, гипотеза H0    принимается\n",
      "\n",
      "========================== Для выборок объемом 100000 ==========================\n",
      "------------------------------- Для alpha = 0.1  -------------------------------\n",
      "Dn = 0.004, l = S = 1.295, la = 1.220 => Т.к. l > la, гипотеза H0 не принимается\n",
      "Dn = 0.002, l = S = 0.685, la = 1.220 => Т.к. l ≤ la, гипотеза H0    принимается\n",
      "Dn = 0.002, l = S = 0.669, la = 1.220 => Т.к. l ≤ la, гипотеза H0    принимается\n",
      "Dn = 0.002, l = S = 0.524, la = 1.220 => Т.к. l ≤ la, гипотеза H0    принимается\n",
      "Dn = 0.004, l = S = 1.219, la = 1.220 => Т.к. l ≤ la, гипотеза H0    принимается\n",
      "------------------------------- Для alpha = 0.05 -------------------------------\n",
      "Dn = 0.004, l = S = 1.295, la = 1.360 => Т.к. l ≤ la, гипотеза H0    принимается\n",
      "Dn = 0.002, l = S = 0.685, la = 1.360 => Т.к. l ≤ la, гипотеза H0    принимается\n",
      "Dn = 0.002, l = S = 0.669, la = 1.360 => Т.к. l ≤ la, гипотеза H0    принимается\n",
      "Dn = 0.002, l = S = 0.524, la = 1.360 => Т.к. l ≤ la, гипотеза H0    принимается\n",
      "Dn = 0.004, l = S = 1.219, la = 1.360 => Т.к. l ≤ la, гипотеза H0    принимается\n"
     ]
    }
   ],
   "source": [
    "alphas = ['0.1', '0.05']\n",
    "            \n",
    "for distrs in distrs_rayl:\n",
    "    print(f'\\n========================== Для выборок объемом {len(distrs[0]):6} ==========================')\n",
    "    for alpha in alphas:\n",
    "        print(f'------------------------------- Для alpha = {alpha:4} -------------------------------')\n",
    "        for distr in distrs:\n",
    "            print_kstest(distr, 3, alpha)"
   ]
  },
  {
   "cell_type": "markdown",
   "metadata": {},
   "source": [
    "**Сложная гипотеза**\n",
    "\n",
    "Гипотеза $H_0$ выглядит так:\n",
    "\n",
    "- Данные распределены по закону Рэлея с параметром, равным оценке максимального правдоподобия для этой выборки.\n",
    "\n",
    "В предыдущей домашней работе мы получили оценку методом максимального правдоподобия для параметра $\\sigma$:\n",
    "\n",
    "$ \\widehat{\\sigma} = \\sqrt{\\dfrac{\\dfrac{1}{n}\\sum\\limits_{i=1}x_i^2}{2}}$\n",
    "\n",
    "Вычислим ее для каждой выборки и применим критерий Колмогорова-Смирнова для оценок параметра:"
   ]
  },
  {
   "cell_type": "code",
   "execution_count": 192,
   "metadata": {},
   "outputs": [
    {
     "name": "stdout",
     "output_type": "stream",
     "text": [
      "\n",
      "========================== Для выборок объемом     10 ==========================\n",
      "------------------------------- Для alpha = 0.1  -------------------------------\n",
      "Dn = 0.226, l = S = 0.768, la = 1.220 => Т.к. l ≤ la, гипотеза H0    принимается\n",
      "Dn = 0.265, l = S = 0.891, la = 1.220 => Т.к. l ≤ la, гипотеза H0    принимается\n",
      "Dn = 0.207, l = S = 0.707, la = 1.220 => Т.к. l ≤ la, гипотеза H0    принимается\n",
      "Dn = 0.096, l = S = 0.357, la = 1.220 => Т.к. l ≤ la, гипотеза H0    принимается\n",
      "Dn = 0.187, l = S = 0.643, la = 1.220 => Т.к. l ≤ la, гипотеза H0    принимается\n",
      "------------------------------- Для alpha = 0.05 -------------------------------\n",
      "Dn = 0.226, l = S = 0.768, la = 1.360 => Т.к. l ≤ la, гипотеза H0    принимается\n",
      "Dn = 0.265, l = S = 0.891, la = 1.360 => Т.к. l ≤ la, гипотеза H0    принимается\n",
      "Dn = 0.207, l = S = 0.707, la = 1.360 => Т.к. l ≤ la, гипотеза H0    принимается\n",
      "Dn = 0.096, l = S = 0.357, la = 1.360 => Т.к. l ≤ la, гипотеза H0    принимается\n",
      "Dn = 0.187, l = S = 0.643, la = 1.360 => Т.к. l ≤ la, гипотеза H0    принимается\n",
      "\n",
      "========================== Для выборок объемом    100 ==========================\n",
      "------------------------------- Для alpha = 0.1  -------------------------------\n",
      "Dn = 0.061, l = S = 0.631, la = 1.220 => Т.к. l ≤ la, гипотеза H0    принимается\n",
      "Dn = 0.050, l = S = 0.520, la = 1.220 => Т.к. l ≤ la, гипотеза H0    принимается\n",
      "Dn = 0.098, l = S = 0.997, la = 1.220 => Т.к. l ≤ la, гипотеза H0    принимается\n",
      "Dn = 0.041, l = S = 0.422, la = 1.220 => Т.к. l ≤ la, гипотеза H0    принимается\n",
      "Dn = 0.070, l = S = 0.721, la = 1.220 => Т.к. l ≤ la, гипотеза H0    принимается\n",
      "------------------------------- Для alpha = 0.05 -------------------------------\n",
      "Dn = 0.061, l = S = 0.631, la = 1.360 => Т.к. l ≤ la, гипотеза H0    принимается\n",
      "Dn = 0.050, l = S = 0.520, la = 1.360 => Т.к. l ≤ la, гипотеза H0    принимается\n",
      "Dn = 0.098, l = S = 0.997, la = 1.360 => Т.к. l ≤ la, гипотеза H0    принимается\n",
      "Dn = 0.041, l = S = 0.422, la = 1.360 => Т.к. l ≤ la, гипотеза H0    принимается\n",
      "Dn = 0.070, l = S = 0.721, la = 1.360 => Т.к. l ≤ la, гипотеза H0    принимается\n",
      "\n",
      "========================== Для выборок объемом   1500 ==========================\n",
      "------------------------------- Для alpha = 0.1  -------------------------------\n",
      "Dn = 0.014, l = S = 0.559, la = 1.220 => Т.к. l ≤ la, гипотеза H0    принимается\n",
      "Dn = 0.028, l = S = 1.088, la = 1.220 => Т.к. l ≤ la, гипотеза H0    принимается\n",
      "Dn = 0.012, l = S = 0.462, la = 1.220 => Т.к. l ≤ la, гипотеза H0    принимается\n",
      "Dn = 0.017, l = S = 0.650, la = 1.220 => Т.к. l ≤ la, гипотеза H0    принимается\n",
      "Dn = 0.018, l = S = 0.719, la = 1.220 => Т.к. l ≤ la, гипотеза H0    принимается\n",
      "------------------------------- Для alpha = 0.05 -------------------------------\n",
      "Dn = 0.014, l = S = 0.559, la = 1.360 => Т.к. l ≤ la, гипотеза H0    принимается\n",
      "Dn = 0.028, l = S = 1.088, la = 1.360 => Т.к. l ≤ la, гипотеза H0    принимается\n",
      "Dn = 0.012, l = S = 0.462, la = 1.360 => Т.к. l ≤ la, гипотеза H0    принимается\n",
      "Dn = 0.017, l = S = 0.650, la = 1.360 => Т.к. l ≤ la, гипотеза H0    принимается\n",
      "Dn = 0.018, l = S = 0.719, la = 1.360 => Т.к. l ≤ la, гипотеза H0    принимается\n",
      "\n",
      "========================== Для выборок объемом   5000 ==========================\n",
      "------------------------------- Для alpha = 0.1  -------------------------------\n",
      "Dn = 0.007, l = S = 0.527, la = 1.220 => Т.к. l ≤ la, гипотеза H0    принимается\n",
      "Dn = 0.009, l = S = 0.664, la = 1.220 => Т.к. l ≤ la, гипотеза H0    принимается\n",
      "Dn = 0.009, l = S = 0.649, la = 1.220 => Т.к. l ≤ la, гипотеза H0    принимается\n",
      "Dn = 0.007, l = S = 0.475, la = 1.220 => Т.к. l ≤ la, гипотеза H0    принимается\n",
      "Dn = 0.010, l = S = 0.687, la = 1.220 => Т.к. l ≤ la, гипотеза H0    принимается\n",
      "------------------------------- Для alpha = 0.05 -------------------------------\n",
      "Dn = 0.007, l = S = 0.527, la = 1.360 => Т.к. l ≤ la, гипотеза H0    принимается\n",
      "Dn = 0.009, l = S = 0.664, la = 1.360 => Т.к. l ≤ la, гипотеза H0    принимается\n",
      "Dn = 0.009, l = S = 0.649, la = 1.360 => Т.к. l ≤ la, гипотеза H0    принимается\n",
      "Dn = 0.007, l = S = 0.475, la = 1.360 => Т.к. l ≤ la, гипотеза H0    принимается\n",
      "Dn = 0.010, l = S = 0.687, la = 1.360 => Т.к. l ≤ la, гипотеза H0    принимается\n",
      "\n",
      "========================== Для выборок объемом 100000 ==========================\n",
      "------------------------------- Для alpha = 0.1  -------------------------------\n",
      "Dn = 0.002, l = S = 0.751, la = 1.220 => Т.к. l ≤ la, гипотеза H0    принимается\n",
      "Dn = 0.002, l = S = 0.590, la = 1.220 => Т.к. l ≤ la, гипотеза H0    принимается\n",
      "Dn = 0.002, l = S = 0.657, la = 1.220 => Т.к. l ≤ la, гипотеза H0    принимается\n",
      "Dn = 0.002, l = S = 0.487, la = 1.220 => Т.к. l ≤ la, гипотеза H0    принимается\n",
      "Dn = 0.003, l = S = 0.822, la = 1.220 => Т.к. l ≤ la, гипотеза H0    принимается\n",
      "------------------------------- Для alpha = 0.05 -------------------------------\n",
      "Dn = 0.002, l = S = 0.751, la = 1.360 => Т.к. l ≤ la, гипотеза H0    принимается\n",
      "Dn = 0.002, l = S = 0.590, la = 1.360 => Т.к. l ≤ la, гипотеза H0    принимается\n",
      "Dn = 0.002, l = S = 0.657, la = 1.360 => Т.к. l ≤ la, гипотеза H0    принимается\n",
      "Dn = 0.002, l = S = 0.487, la = 1.360 => Т.к. l ≤ la, гипотеза H0    принимается\n",
      "Dn = 0.003, l = S = 0.822, la = 1.360 => Т.к. l ≤ la, гипотеза H0    принимается\n"
     ]
    }
   ],
   "source": [
    "for distrs in distrs_rayl:\n",
    "    print(f'\\n========================== Для выборок объемом {len(distrs[0]):6} ==========================')\n",
    "    for alpha in alphas:\n",
    "        print(f'------------------------------- Для alpha = {alpha:4} -------------------------------')\n",
    "        for distr in distrs:\n",
    "            print_kstest(distr, estim_s(distr), alpha)"
   ]
  },
  {
   "cell_type": "markdown",
   "metadata": {},
   "source": [
    "---\n",
    "### 1.3 Критерий однородности Колмогорова-Смирнова"
   ]
  },
  {
   "cell_type": "markdown",
   "metadata": {},
   "source": [
    "Критерий однородности Колмогорова-Смирнова применяется, когда нужно узнать, принадлежат ли две выборки одному и тому же распределению. Т.е. гипотеза $H_0$ выглядит так:\n",
    "- Функции распределения двух выборок одинаковы\n",
    "\n",
    "Если $n_1$, $n_2$ -- объемы двух сравниваемых выборок, $F_{n_1},\\; F_{n_2}$ -- эмпирические функции распределения этих выборок, то статистика критерия имеет вид:\n",
    "$\\lambda=\\sqrt{\\dfrac{n_1n_2}{n_1+n_2}} \\cdot max \\left| F_{n_1} - F_{n_2}\\right|$\n",
    "\n",
    "Если $\\lambda_\\alpha$ -- табличное критическое значение статистики, то гипотеза $H_0$ принимается, когда $\\lambda ≤ \\lambda_\\alpha$."
   ]
  },
  {
   "cell_type": "markdown",
   "metadata": {},
   "source": [
    "Проведем сравнение наших сгенерированных выборок с помощью критерия Колмогорова-Смирнова. Для выборок одинакового объема возьмем по три выборки (три комбинации по 2), для разного объема -- по две выборки каждого объема (4 комбинации по 2)."
   ]
  },
  {
   "cell_type": "code",
   "execution_count": 310,
   "metadata": {},
   "outputs": [],
   "source": [
    "from itertools import combinations, product\n",
    "\n",
    "# Функция работает только для сравнения распр. одного типа (дискретных/непрерывных)\n",
    "def s_test(comb):\n",
    "    n1 = len(comb[0])\n",
    "    n2 = len(comb[1])\n",
    "    k = math.sqrt(n1 * n2 / (n1 + n2))\n",
    "    emp1 = emp(comb[0])\n",
    "    emp2 = emp(comb[1])\n",
    "    # Берем самый макс.знач., чтобы определиться, для каких x будем считать эмпирические\n",
    "    max12 = max(max(comb[0]), max(comb[1]))\n",
    "    # Проверка на дискретность распределений\n",
    "    my_range = range(max12) if isinstance(max12, int) else np.arange(0, max12, 0.1)\n",
    "    m_dif = max(list(map(lambda x: abs(emp1(x) - emp2(x)), my_range)))\n",
    "    return k * m_dif\n",
    "\n",
    "def print_s_test(distrs, alpha, is_eq_n):\n",
    "    '''\n",
    "    Для выборок разного объема необх. задавать в distrs сначала две одного объема, потом две другого\n",
    "    '''\n",
    "    if is_eq_n:\n",
    "        combs = list(combinations(distrs, 2))\n",
    "        print(f'--------------- Для выборок объемом {len(distrs[0]):6} ---------------')\n",
    "    else:\n",
    "        combs = list(product(distrs[0], distrs[1]))\n",
    "        print(f'----------- Для выборок объемов {len(distrs[0][0]):4} и {len(distrs[1][0]):6} ------------')\n",
    "    for comb in combs:\n",
    "        l = np.round(s_test(comb), 3)\n",
    "        la = l_set[str(alpha)]\n",
    "        print(f'l = {l:5}, la = {la}'\\\n",
    "        f', l {\"⩽\" if l <= la else \">\"} la => гипотеза H0 {\"не\" if l > la else \"  \"} принимается')"
   ]
  },
  {
   "cell_type": "code",
   "execution_count": 300,
   "metadata": {},
   "outputs": [],
   "source": [
    "poiss10 = [pois10[0], pois10[1], pois10[2]]\n",
    "poiss100 = [pois100[0], pois100[1], pois100[2]]\n",
    "poiss1500 = [pois1500[0], pois1500[1], pois1500[2]]\n",
    "poiss105 = [pois105[0], pois105[1], pois105[2]]\n",
    "\n",
    "poiss10_100 = [[pois10[0], pois10[1]], [pois100[0], pois100[1]]]\n",
    "poiss10_1500 = [[pois10[0], pois10[1]], [pois1500[0], pois1500[1]]]\n",
    "poiss1500_105 = [[pois1500[0], pois1500[1]], [pois105[0], pois105[1]]]"
   ]
  },
  {
   "cell_type": "code",
   "execution_count": 311,
   "metadata": {},
   "outputs": [
    {
     "name": "stdout",
     "output_type": "stream",
     "text": [
      "================= РАСПРЕДЕЛЕНИЕ ПУАССОНА =================\n",
      "\n",
      "=============== Для уровня значимости 0.1  ===============\n",
      "--------------- Для выборок объемом     10 ---------------\n",
      "l = 0.671, la = 1.22, l ⩽ la => гипотеза H0    принимается\n",
      "l = 0.894, la = 1.22, l ⩽ la => гипотеза H0    принимается\n",
      "l = 0.671, la = 1.22, l ⩽ la => гипотеза H0    принимается\n",
      "--------------- Для выборок объемом    100 ---------------\n",
      "l = 0.354, la = 1.22, l ⩽ la => гипотеза H0    принимается\n",
      "l = 0.566, la = 1.22, l ⩽ la => гипотеза H0    принимается\n",
      "l = 0.354, la = 1.22, l ⩽ la => гипотеза H0    принимается\n",
      "--------------- Для выборок объемом   1500 ---------------\n",
      "l = 0.456, la = 1.22, l ⩽ la => гипотеза H0    принимается\n",
      "l =  0.42, la = 1.22, l ⩽ la => гипотеза H0    принимается\n",
      "l = 0.219, la = 1.22, l ⩽ la => гипотеза H0    принимается\n",
      "--------------- Для выборок объемом 100000 ---------------\n",
      "l = 0.702, la = 1.22, l ⩽ la => гипотеза H0    принимается\n",
      "l = 0.664, la = 1.22, l ⩽ la => гипотеза H0    принимается\n",
      "l = 0.937, la = 1.22, l ⩽ la => гипотеза H0    принимается\n",
      "----------- Для выборок объемов   10 и    100 ------------\n",
      "l = 0.392, la = 1.22, l ⩽ la => гипотеза H0    принимается\n",
      "l = 0.302, la = 1.22, l ⩽ la => гипотеза H0    принимается\n",
      "l = 0.663, la = 1.22, l ⩽ la => гипотеза H0    принимается\n",
      "l = 0.814, la = 1.22, l ⩽ la => гипотеза H0    принимается\n",
      "----------- Для выборок объемов   10 и   1500 ------------\n",
      "l = 0.313, la = 1.22, l ⩽ la => гипотеза H0    принимается\n",
      "l = 0.313, la = 1.22, l ⩽ la => гипотеза H0    принимается\n",
      "l = 0.767, la = 1.22, l ⩽ la => гипотеза H0    принимается\n",
      "l = 0.769, la = 1.22, l ⩽ la => гипотеза H0    принимается\n",
      "----------- Для выборок объемов 1500 и 100000 ------------\n",
      "l = 0.541, la = 1.22, l ⩽ la => гипотеза H0    принимается\n",
      "l =  0.42, la = 1.22, l ⩽ la => гипотеза H0    принимается\n",
      "l = 0.485, la = 1.22, l ⩽ la => гипотеза H0    принимается\n",
      "l = 0.431, la = 1.22, l ⩽ la => гипотеза H0    принимается\n",
      "\n",
      "=============== Для уровня значимости 0.05 ===============\n",
      "--------------- Для выборок объемом     10 ---------------\n",
      "l = 0.671, la = 1.36, l ⩽ la => гипотеза H0    принимается\n",
      "l = 0.894, la = 1.36, l ⩽ la => гипотеза H0    принимается\n",
      "l = 0.671, la = 1.36, l ⩽ la => гипотеза H0    принимается\n",
      "--------------- Для выборок объемом    100 ---------------\n",
      "l = 0.354, la = 1.36, l ⩽ la => гипотеза H0    принимается\n",
      "l = 0.566, la = 1.36, l ⩽ la => гипотеза H0    принимается\n",
      "l = 0.354, la = 1.36, l ⩽ la => гипотеза H0    принимается\n",
      "--------------- Для выборок объемом   1500 ---------------\n",
      "l = 0.456, la = 1.36, l ⩽ la => гипотеза H0    принимается\n",
      "l =  0.42, la = 1.36, l ⩽ la => гипотеза H0    принимается\n",
      "l = 0.219, la = 1.36, l ⩽ la => гипотеза H0    принимается\n",
      "--------------- Для выборок объемом 100000 ---------------\n",
      "l = 0.702, la = 1.36, l ⩽ la => гипотеза H0    принимается\n",
      "l = 0.664, la = 1.36, l ⩽ la => гипотеза H0    принимается\n",
      "l = 0.937, la = 1.36, l ⩽ la => гипотеза H0    принимается\n",
      "----------- Для выборок объемов   10 и    100 ------------\n",
      "l = 0.392, la = 1.36, l ⩽ la => гипотеза H0    принимается\n",
      "l = 0.302, la = 1.36, l ⩽ la => гипотеза H0    принимается\n",
      "l = 0.663, la = 1.36, l ⩽ la => гипотеза H0    принимается\n",
      "l = 0.814, la = 1.36, l ⩽ la => гипотеза H0    принимается\n",
      "----------- Для выборок объемов   10 и   1500 ------------\n",
      "l = 0.313, la = 1.36, l ⩽ la => гипотеза H0    принимается\n",
      "l = 0.313, la = 1.36, l ⩽ la => гипотеза H0    принимается\n",
      "l = 0.767, la = 1.36, l ⩽ la => гипотеза H0    принимается\n",
      "l = 0.769, la = 1.36, l ⩽ la => гипотеза H0    принимается\n",
      "----------- Для выборок объемов 1500 и 100000 ------------\n",
      "l = 0.541, la = 1.36, l ⩽ la => гипотеза H0    принимается\n",
      "l =  0.42, la = 1.36, l ⩽ la => гипотеза H0    принимается\n",
      "l = 0.485, la = 1.36, l ⩽ la => гипотеза H0    принимается\n",
      "l = 0.431, la = 1.36, l ⩽ la => гипотеза H0    принимается\n"
     ]
    }
   ],
   "source": [
    "print('================= РАСПРЕДЕЛЕНИЕ ПУАССОНА =================')\n",
    "for alpha in alphas:\n",
    "    print(f'\\n=============== Для уровня значимости {alpha:4} ===============')\n",
    "    for comb in [poiss10, poiss100, poiss1500, poiss105]:\n",
    "        print_s_test(comb, alpha, True)\n",
    "    for comb in [poiss10_100, poiss10_1500, poiss1500_105]:\n",
    "        print_s_test(comb, alpha, False)"
   ]
  },
  {
   "cell_type": "code",
   "execution_count": 250,
   "metadata": {},
   "outputs": [],
   "source": [
    "rayll10 = [rayl10[0], rayl10[1], rayl10[2]]\n",
    "rayll100 = [rayl100[0], rayl100[1], rayl100[2]]\n",
    "rayll1500 = [rayl1500[0], rayl1500[1], rayl1500[2]]\n",
    "rayll105 = [rayl105[0], rayl105[1], rayl105[2]]\n",
    "\n",
    "rayll10_100 = [[rayl10[0], rayl10[1]], [rayl100[0], rayl100[1]]]\n",
    "rayll10_1500 = [[rayl10[0], rayl10[1]], [rayl1500[0], rayl1500[1]]]\n",
    "rayll1500_105 = [[rayl1500[0], rayl1500[1]], [rayl105[0], rayl105[1]]]"
   ]
  },
  {
   "cell_type": "code",
   "execution_count": 312,
   "metadata": {},
   "outputs": [
    {
     "name": "stdout",
     "output_type": "stream",
     "text": [
      "================== РАСПРЕДЕЛЕНИЕ РЭЛЕЯ ===================\n",
      "\n",
      "=============== Для уровня значимости 0.1  ===============\n",
      "--------------- Для выборок объемом     10 ---------------\n",
      "l = 0.671, la = 1.22, l ⩽ la => гипотеза H0    принимается\n",
      "l = 0.894, la = 1.22, l ⩽ la => гипотеза H0    принимается\n",
      "l = 0.671, la = 1.22, l ⩽ la => гипотеза H0    принимается\n",
      "--------------- Для выборок объемом    100 ---------------\n",
      "l = 0.354, la = 1.22, l ⩽ la => гипотеза H0    принимается\n",
      "l = 0.566, la = 1.22, l ⩽ la => гипотеза H0    принимается\n",
      "l = 0.354, la = 1.22, l ⩽ la => гипотеза H0    принимается\n",
      "--------------- Для выборок объемом   1500 ---------------\n",
      "l = 0.456, la = 1.22, l ⩽ la => гипотеза H0    принимается\n",
      "l =  0.42, la = 1.22, l ⩽ la => гипотеза H0    принимается\n",
      "l = 0.219, la = 1.22, l ⩽ la => гипотеза H0    принимается\n",
      "--------------- Для выборок объемом 100000 ---------------\n",
      "l = 0.702, la = 1.22, l ⩽ la => гипотеза H0    принимается\n",
      "l = 0.664, la = 1.22, l ⩽ la => гипотеза H0    принимается\n",
      "l = 0.937, la = 1.22, l ⩽ la => гипотеза H0    принимается\n",
      "----------- Для выборок объемов   10 и    100 ------------\n",
      "l = 0.392, la = 1.22, l ⩽ la => гипотеза H0    принимается\n",
      "l = 0.302, la = 1.22, l ⩽ la => гипотеза H0    принимается\n",
      "l = 0.663, la = 1.22, l ⩽ la => гипотеза H0    принимается\n",
      "l = 0.814, la = 1.22, l ⩽ la => гипотеза H0    принимается\n",
      "----------- Для выборок объемов   10 и   1500 ------------\n",
      "l = 0.313, la = 1.22, l ⩽ la => гипотеза H0    принимается\n",
      "l = 0.313, la = 1.22, l ⩽ la => гипотеза H0    принимается\n",
      "l = 0.767, la = 1.22, l ⩽ la => гипотеза H0    принимается\n",
      "l = 0.769, la = 1.22, l ⩽ la => гипотеза H0    принимается\n",
      "----------- Для выборок объемов 1500 и 100000 ------------\n",
      "l = 0.541, la = 1.22, l ⩽ la => гипотеза H0    принимается\n",
      "l =  0.42, la = 1.22, l ⩽ la => гипотеза H0    принимается\n",
      "l = 0.485, la = 1.22, l ⩽ la => гипотеза H0    принимается\n",
      "l = 0.431, la = 1.22, l ⩽ la => гипотеза H0    принимается\n",
      "\n",
      "=============== Для уровня значимости 0.05 ===============\n",
      "--------------- Для выборок объемом     10 ---------------\n",
      "l = 0.671, la = 1.36, l ⩽ la => гипотеза H0    принимается\n",
      "l = 0.894, la = 1.36, l ⩽ la => гипотеза H0    принимается\n",
      "l = 0.671, la = 1.36, l ⩽ la => гипотеза H0    принимается\n",
      "--------------- Для выборок объемом    100 ---------------\n",
      "l = 0.354, la = 1.36, l ⩽ la => гипотеза H0    принимается\n",
      "l = 0.566, la = 1.36, l ⩽ la => гипотеза H0    принимается\n",
      "l = 0.354, la = 1.36, l ⩽ la => гипотеза H0    принимается\n",
      "--------------- Для выборок объемом   1500 ---------------\n",
      "l = 0.456, la = 1.36, l ⩽ la => гипотеза H0    принимается\n",
      "l =  0.42, la = 1.36, l ⩽ la => гипотеза H0    принимается\n",
      "l = 0.219, la = 1.36, l ⩽ la => гипотеза H0    принимается\n",
      "--------------- Для выборок объемом 100000 ---------------\n",
      "l = 0.702, la = 1.36, l ⩽ la => гипотеза H0    принимается\n",
      "l = 0.664, la = 1.36, l ⩽ la => гипотеза H0    принимается\n",
      "l = 0.937, la = 1.36, l ⩽ la => гипотеза H0    принимается\n",
      "----------- Для выборок объемов   10 и    100 ------------\n",
      "l = 0.392, la = 1.36, l ⩽ la => гипотеза H0    принимается\n",
      "l = 0.302, la = 1.36, l ⩽ la => гипотеза H0    принимается\n",
      "l = 0.663, la = 1.36, l ⩽ la => гипотеза H0    принимается\n",
      "l = 0.814, la = 1.36, l ⩽ la => гипотеза H0    принимается\n",
      "----------- Для выборок объемов   10 и   1500 ------------\n",
      "l = 0.313, la = 1.36, l ⩽ la => гипотеза H0    принимается\n",
      "l = 0.313, la = 1.36, l ⩽ la => гипотеза H0    принимается\n",
      "l = 0.767, la = 1.36, l ⩽ la => гипотеза H0    принимается\n",
      "l = 0.769, la = 1.36, l ⩽ la => гипотеза H0    принимается\n",
      "----------- Для выборок объемов 1500 и 100000 ------------\n",
      "l = 0.541, la = 1.36, l ⩽ la => гипотеза H0    принимается\n",
      "l =  0.42, la = 1.36, l ⩽ la => гипотеза H0    принимается\n",
      "l = 0.485, la = 1.36, l ⩽ la => гипотеза H0    принимается\n",
      "l = 0.431, la = 1.36, l ⩽ la => гипотеза H0    принимается\n"
     ]
    }
   ],
   "source": [
    "print('================== РАСПРЕДЕЛЕНИЕ РЭЛЕЯ ===================')\n",
    "for alpha in alphas:\n",
    "    print(f'\\n=============== Для уровня значимости {alpha:4} ===============')\n",
    "    for comb in [poiss10, poiss100, poiss1500, poiss105]:\n",
    "        print_s_test(comb, alpha, True)\n",
    "    for comb in [poiss10_100, poiss10_1500, poiss1500_105]:\n",
    "        print_s_test(comb, alpha, False)"
   ]
  },
  {
   "cell_type": "markdown",
   "metadata": {},
   "source": [
    "Можно попробовать сравнить выборки разных распределений. На маленьких выборках критерий может ошибаться, но на средних больших выдает верный результат:"
   ]
  },
  {
   "cell_type": "code",
   "execution_count": 315,
   "metadata": {},
   "outputs": [
    {
     "name": "stdout",
     "output_type": "stream",
     "text": [
      "--------------- Для выборок объемом     10 ---------------\n",
      "l = 1.118, la = 1.22, l ⩽ la => гипотеза H0    принимается\n",
      "--------------- Для выборок объемом    100 ---------------\n",
      "l = 2.121, la = 1.22, l > la => гипотеза H0 не принимается\n",
      "--------------- Для выборок объемом   1500 ---------------\n",
      "l = 6.646, la = 1.22, l > la => гипотеза H0 не принимается\n",
      "--------------- Для выборок объемом 100000 ---------------\n",
      "l = 57.72, la = 1.22, l > la => гипотеза H0 не принимается\n"
     ]
    }
   ],
   "source": [
    "print_s_test([pois10[0], rayl10[0]], 0.1, True)\n",
    "print_s_test([pois100[0], rayl100[0]], 0.1, True)\n",
    "print_s_test([pois1500[0], rayl1500[0]], 0.1, True)\n",
    "print_s_test([pois105[0], rayl105[0]], 0.1, True)"
   ]
  },
  {
   "cell_type": "markdown",
   "metadata": {},
   "source": [
    "---\n",
    "## 2. Проверка параметрических гипотез\n",
    "---"
   ]
  },
  {
   "cell_type": "markdown",
   "metadata": {},
   "source": [
    "### 1. Данные\n",
    "\n",
    "Будем работать с распределением Пуассона. Возьмем выборку объемом 5000: с параметром $\\lambda=5$."
   ]
  },
  {
   "cell_type": "code",
   "execution_count": 295,
   "metadata": {},
   "outputs": [],
   "source": [
    "v = rand_Pois(5, 5000)"
   ]
  },
  {
   "cell_type": "markdown",
   "metadata": {},
   "source": [
    "### 2. Постановка задачи "
   ]
  },
  {
   "cell_type": "markdown",
   "metadata": {},
   "source": [
    "Пусть известно, что данные распределены по закону Пуассона, но не известен параметр $\\lambda$ распределения.\n",
    "Сформулируем гипотезы.\n",
    "\n",
    "- $H_0$: $\\lambda$ = 5\n",
    "\n",
    "- $H_1$: $\\lambda$ = 7\n",
    "\n",
    "Ошибкой 1-го рода $\\alpha$ называют отвержение $H_0$, когда она истинна. Ошибкой 2-го рода $\\beta$ -- принятие $H_0$ за истинную, когда она ложна.\n",
    "\n",
    "В случае, когда $H_0,\\;H_1$ -- простые, $\\alpha = P(x \\in X_{1\\alpha} | H_0)$, $\\beta = P(x \\in X_{0\\alpha}|H_1) = 1 - P(x \\in X_{1\\alpha}|H_1)$.\n",
    "\n",
    "Функция мощности определяется как функционал на множестве допустимых распределений $\\mathcal{F}$ и выборке $X$: $w(F)=P(X \\in X_{1\\alpha} | F)$. Для критериев, основанных на выборке фиксированного объема, $w(F)=1-\\beta$. "
   ]
  },
  {
   "cell_type": "markdown",
   "metadata": {},
   "source": [
    "### 3. Вычисление функции отношения правдоподобия"
   ]
  },
  {
   "cell_type": "markdown",
   "metadata": {},
   "source": [
    "Вычисление функция отношения правдоподобия происходит по формуле $l(x)=\\dfrac{L(X, \\theta_1)}{L(X, \\theta_2)}$, где $L(X, \\theta)$ -- функция правдоподобия.\n",
    "\n",
    "Для распределения Пуассона $L(\\vec{x}, \\lambda)=\\prod\\limits_{i=1}^n f(x_i,\\lambda)=\\prod_{i=1}^n\\dfrac{\\lambda^{x_i}}{x_i!}\\cdot e^{-\\lambda}=e^{-n\\lambda}\\prod_{i=1}^n\\dfrac{\\lambda^{x_i}}{x_i!}$\n",
    "\n",
    "Данная функция используется в критерии выбора из простых $H_0, \\; H_1$: $H_0$ принимается, если $l(x) \\leq c$."
   ]
  },
  {
   "cell_type": "markdown",
   "metadata": {},
   "source": [
    "### 4. Вычисление критической области"
   ]
  },
  {
   "cell_type": "markdown",
   "metadata": {},
   "source": [
    "Чтобы выбрать c, найдем распределение $l(x)$.\n",
    "\n",
    "$lnL=-n\\lambda+ln\\lambda\\sum\\limits_{i=1}^n(x_i)-\\sum\\limits_{i=1}^n ln(x_i)!$\n",
    "\n",
    "$ln(l(x))=ln(L(X, \\lambda_1)) - ln(L(X, \\lambda_2)) = -n(\\lambda_1 - \\lambda_2) + \\sum\\limits_{i=1}^n(x_i)\\cdot(ln\\lambda_1 - ln\\lambda_2) = n(\\lambda_2 - \\lambda_1) + ln\\dfrac{\\lambda_1}{\\lambda_2}\\sum\\limits_{i=1}^n x_i \\geq c' = ln\\; c$\n",
    "\n",
    "$\\sum\\limits_{i=1}^n x_i \\geq $\n",
    "\n"
   ]
  },
  {
   "cell_type": "code",
   "execution_count": null,
   "metadata": {},
   "outputs": [],
   "source": []
  }
 ],
 "metadata": {
  "kernelspec": {
   "display_name": "Python 3",
   "language": "python",
   "name": "python3"
  },
  "language_info": {
   "codemirror_mode": {
    "name": "ipython",
    "version": 3
   },
   "file_extension": ".py",
   "mimetype": "text/x-python",
   "name": "python",
   "nbconvert_exporter": "python",
   "pygments_lexer": "ipython3",
   "version": "3.7.3"
  }
 },
 "nbformat": 4,
 "nbformat_minor": 4
}
