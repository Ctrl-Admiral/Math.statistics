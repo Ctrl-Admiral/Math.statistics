{
 "cells": [
  {
   "cell_type": "markdown",
   "metadata": {},
   "source": [
    "# Домашние задания по математической статистике\n",
    "\n",
    "### Гаварина Светлана, СКБ-171\n",
    "---\n",
    "\n",
    "# Домашнее задание 3.\n",
    "# Оценки\n"
   ]
  },
  {
   "cell_type": "markdown",
   "metadata": {},
   "source": [
    "---\n",
    "## 1. Нахождение выборочного среднего и выборочной дисперсии\n",
    "---"
   ]
  },
  {
   "cell_type": "markdown",
   "metadata": {},
   "source": [
    "#### Пусть в распределении Пуассона $\\lambda = 3$, в распределении Рэлея $ \\sigma = 3 $. Сгенерируем выборки:\n",
    "\n",
    "#### 1) Распределение Пуассона"
   ]
  },
  {
   "cell_type": "code",
   "execution_count": 44,
   "metadata": {},
   "outputs": [],
   "source": [
    "import random\n",
    "import numpy as np\n",
    "import math\n",
    "\n",
    "# функция генерации выборки\n",
    "def rand_Pois(lamb, n):\n",
    "    nums = []\n",
    "    for i in range(n):\n",
    "        p = math.exp(-lamb)\n",
    "        sp = 0\n",
    "        sp += p\n",
    "        u = random.uniform(0,1)\n",
    "        j = 0\n",
    "        while u > sp:\n",
    "            j += 1         # p_j\n",
    "            p *= lamb / j  # p_j / p_j-1 = lamb / j\n",
    "            sp += p\n",
    "        nums.append(j)\n",
    "    return nums\n",
    "\n",
    "lamb = 3\n",
    "\n",
    "pois5 = [] # Выборки объемом 5\n",
    "for i in range(5):\n",
    "    pois5.append(rand_Pois(lamb, 5))\n",
    "    \n",
    "pois10 = [] # Выборки объемом 10\n",
    "for i in range(5):\n",
    "    pois10.append(rand_Pois(lamb, 10))\n",
    "    \n",
    "pois100 = [] # Выборки объемом 100\n",
    "for i in range(5):\n",
    "    pois100.append(rand_Pois(lamb, 100))\n",
    "    \n",
    "pois1000 = [] # Выборки объемом 1000\n",
    "for i in range(5):\n",
    "    pois1000.append(rand_Pois(lamb, 1000))\n",
    "\n",
    "pois105 = [] # Выборки объемом 10 ** 5\n",
    "for i in range(5):\n",
    "    pois105.append(rand_Pois(lamb, 10 ** 5))"
   ]
  },
  {
   "cell_type": "markdown",
   "metadata": {},
   "source": [
    "#### 1) Распределение Рэлея"
   ]
  },
  {
   "cell_type": "code",
   "execution_count": 45,
   "metadata": {},
   "outputs": [],
   "source": [
    "def inv_f_Rayl(sigma, u):\n",
    "    return sigma * math.sqrt(-2 * math.log(u))\n",
    "\n",
    "# Функция генерации выборки\n",
    "def rand_Rayl(sigma, n):\n",
    "    nums = []\n",
    "    for i in range(n):\n",
    "        u = random.uniform(0, 1)\n",
    "        nums.append(inv_f_Rayl(sigma, u))\n",
    "    return nums"
   ]
  },
  {
   "cell_type": "code",
   "execution_count": 219,
   "metadata": {},
   "outputs": [],
   "source": [
    "sigma = 3\n",
    "\n",
    "rayl5 = [] # Выборки объемом 5\n",
    "for i in range(5):\n",
    "    rayl5.append(rand_Rayl(sigma, 5))\n",
    "    \n",
    "rayl10 = [] # Выборки объемом 10\n",
    "for i in range(5):\n",
    "    rayl10.append(rand_Rayl(sigma, 10))\n",
    "    \n",
    "rayl100 = [] # Выборки объемом 100\n",
    "for i in range(5):\n",
    "    rayl100.append(rand_Rayl(sigma, 100))\n",
    "    \n",
    "rayl1000 = [] # Выборки объемом 1000\n",
    "for i in range(5):\n",
    "    rayl1000.append(rand_Rayl(sigma, 1000))\n",
    "\n",
    "rayl105 = [] # Выборки объемом 10 ** 5\n",
    "for i in range(5):\n",
    "    rayl105.append(rand_Rayl(sigma, 10 ** 5))"
   ]
  },
  {
   "cell_type": "markdown",
   "metadata": {},
   "source": [
    "### 1.1 Выборочное среднее\n",
    "\n",
    "Является выборочным моментом первого порядка.\n",
    "\n",
    "<a href=\"https://www.codecogs.com/eqnedit.php?latex=\\dpi{150}&space;\\tiny&space;\\overline{X}=\\dfrac{1}{n}\\sum\\limits_{i=1}^n&space;x_i\" target=\"_blank\"><img src=\"https://latex.codecogs.com/gif.latex?\\dpi{150}&space;\\tiny&space;\\overline{X}=\\dfrac{1}{n}\\sum\\limits_{i=1}^n&space;x_i\" title=\"\\tiny \\overline{X}=\\dfrac{1}{n}\\sum\\limits_{i=1}^n x_i\" /></a>, где $ n $ -- объем выборки."
   ]
  },
  {
   "cell_type": "markdown",
   "metadata": {},
   "source": [
    "#### 1) Распределение Пуассона"
   ]
  },
  {
   "cell_type": "code",
   "execution_count": 47,
   "metadata": {},
   "outputs": [
    {
     "name": "stdout",
     "output_type": "stream",
     "text": [
      "Для выборок объемом 5:\n",
      "  | 1.8 | 2.0 | 2.6 | 2.8 | 2.8|\n",
      "Для выборок объемом 10:\n",
      "  | 3.1 | 2.9 | 2.1 | 2.6 | 2.5|\n",
      "Для выборок объемом 100:\n",
      "  | 2.99 | 3.05 | 2.81 | 3.02 | 3.15|\n",
      "Для выборок объемом 1000:\n",
      "  | 3.089 | 2.993 | 2.944 | 2.919 | 3.041|\n",
      "Для выборок объемом 10 ** 5:\n",
      "  | 3.00282 | 2.99636 | 3.00326 | 2.9946 | 3.00448|\n"
     ]
    }
   ],
   "source": [
    "print('Для выборок объемом 5:\\n ', *map(lambda x: np.mean(x), pois5), sep=' | ', end='|\\n')\n",
    "print('Для выборок объемом 10:\\n ', *map(lambda x: np.mean(x), pois10), sep=' | ', end='|\\n')\n",
    "print('Для выборок объемом 100:\\n ', *map(lambda x: np.mean(x), pois100), sep=' | ', end='|\\n')\n",
    "print('Для выборок объемом 1000:\\n ', *map(lambda x: np.mean(x), pois1000), sep=' | ', end='|\\n')\n",
    "print('Для выборок объемом 10 ** 5:\\n ', *map(lambda x: np.mean(x), pois105), sep=' | ', end='|\\n')"
   ]
  },
  {
   "cell_type": "markdown",
   "metadata": {},
   "source": [
    "#### Истинное значение\n",
    "\n",
    "Как было найдено в 1-й домашней работе, для распределения Пуассона $ E\\xi = \\lambda $. Так как $ \\lambda $ принята за 3, то $ E\\xi = 3 $.\n",
    "#### Свойства:\n",
    "**1) Состоятельность**\n",
    "\n",
    "**Оценка $\\overline{X} $ состоятельная**. Это следует из критерия состоятельности: как видно по результатам вычислений, с увеличением объема выборки выборочное среднее приближается к этому значению.\n",
    "\n",
    "Критерий состоятельности состоит том, что если все элементы выборки $(x_1, \\dots, x_n) $ -- независимые, одинаково распределенные величины, то при $n\\rightarrow \\infty \\;\\;\\widehat{a}^k\\xrightarrow{P}M X_1^k$. Доказательство:\n",
    "\n",
    "- Рассмотрим статистику $S$.\n",
    "\n",
    "<a href=\"https://www.codecogs.com/eqnedit.php?latex=\\dpi{200}&space;\\tiny&space;S&space;=&space;\\int&space;g(t)d\\widehat{F}_1(t)=\\dfrac{1}{n}\\sum\\limits_{i=1}^ng(x_i)\" target=\"_blank\"><img src=\"https://latex.codecogs.com/gif.latex?\\dpi{200}&space;\\tiny&space;S&space;=&space;\\int&space;g(t)d\\widehat{F}_1(t)=\\dfrac{1}{n}\\sum\\limits_{i=1}^ng(x_i)\" title=\"\\tiny S = \\int g(t)d\\widehat{F}_1(t)=\\dfrac{1}{n}\\sum\\limits_{i=1}^ng(x_i)\" /></a>. По ЗБЧ $S\\xrightarrow{P}Mg(x_i)$.\n",
    "\n",
    "**2) Несмещенность**\n",
    "\n",
    "Оценка называется несмещенной, если ее мат.ожидание равно оцениваемому параметру: $ET(\\theta)=\\theta$\n",
    "\n",
    "Докажем, что $E\\overline{X}=\\lambda$, используя свойство мат.ожидания и то, что для распределения Пуассона $E\\xi=\\lambda$:\n",
    "\n",
    "<a href=\"https://www.codecogs.com/eqnedit.php?latex=\\dpi{200}&space;\\fn_phv&space;\\tiny&space;E\\overline{X}=E\\left(\\dfrac{1}{n}\\sum\\limits_{i=1}^n&space;x_i\\right)&space;=&space;\\dfrac{1}{n}\\sum\\limits_{i=1}^n&space;E(x_i)&space;=&space;\\dfrac{1}{n}\\sum\\limits_{i=1}^n&space;\\lambda&space;=&space;\\dfrac{1}{n}\\cdot&space;n&space;\\cdot&space;\\lambda&space;=&space;\\lambda\" target=\"_blank\"><img src=\"https://latex.codecogs.com/png.latex?\\dpi{200}&space;\\fn_phv&space;\\tiny&space;E\\overline{X}=E\\left(\\dfrac{1}{n}\\sum\\limits_{i=1}^n&space;x_i\\right)&space;=&space;\\dfrac{1}{n}\\sum\\limits_{i=1}^n&space;E(x_i)&space;=&space;\\dfrac{1}{n}\\sum\\limits_{i=1}^n&space;\\lambda&space;=&space;\\dfrac{1}{n}\\cdot&space;n&space;\\cdot&space;\\lambda&space;=&space;\\lambda\" title=\"\\tiny E\\overline{X}=E\\left(\\dfrac{1}{n}\\sum\\limits_{i=1}^n x_i\\right) = \\dfrac{1}{n}\\sum\\limits_{i=1}^n E(x_i) = \\dfrac{1}{n}\\sum\\limits_{i=1}^n \\lambda = \\dfrac{1}{n}\\cdot n \\cdot \\lambda = \\lambda\" /></a>\n",
    "\n",
    "**Оценка $\\overline{X} $ несмещенная**"
   ]
  },
  {
   "cell_type": "markdown",
   "metadata": {},
   "source": [
    "#### 2) Распределение Рэлея"
   ]
  },
  {
   "cell_type": "code",
   "execution_count": 48,
   "metadata": {},
   "outputs": [
    {
     "name": "stdout",
     "output_type": "stream",
     "text": [
      "Для выборок объемом 5:\n",
      "  | 2.974109007398752 | 3.244550118305044 | 3.071772174267513 | 4.384092990852762 | 4.255132437031184|\n",
      "Для выборок объемом 10:\n",
      "  | 3.873668896746017 | 3.740937182741529 | 4.0529882824593475 | 3.880896363833654 | 3.7762176474595677|\n",
      "Для выборок объемом 100:\n",
      "  | 3.3649762322216525 | 3.5449822670792113 | 3.7886515292384164 | 3.842290498936759 | 3.7590715768902316|\n",
      "Для выборок объемом 1000:\n",
      "  | 3.849745735349801 | 3.759276877397776 | 3.812076114253169 | 3.6861891215191926 | 3.702250514100345|\n",
      "Для выборок объемом 10 ** 5:\n",
      "  | 3.7641288810177804 | 3.7569135737044195 | 3.760585359086452 | 3.7688579790865546 | 3.752590574809055|\n"
     ]
    }
   ],
   "source": [
    "import tqdm\n",
    "print('Для выборок объемом 5:\\n ', *map(lambda x: np.mean(x), rayl5), sep=' | ', end='|\\n')\n",
    "print('Для выборок объемом 10:\\n ', *map(lambda x: np.mean(x), rayl10), sep=' | ', end='|\\n')\n",
    "print('Для выборок объемом 100:\\n ', *map(lambda x: np.mean(x), rayl100), sep=' | ', end='|\\n')\n",
    "print('Для выборок объемом 1000:\\n ', *map(lambda x: np.mean(x), rayl1000), sep=' | ', end='|\\n')\n",
    "print('Для выборок объемом 10 ** 5:\\n ', *map(lambda x: np.mean(x), rayl105), sep=' | ', end='|\\n')\n",
    "\n",
    "# rayl107 = [] # Выборки объемом 10 ** 7\n",
    "# for i in tqdm.tqdm(range(5)):\n",
    "#     rayl107.append(rand_Rayl(sigma, 10 ** 7))\n",
    "    \n",
    "# print('Для выборок объемом 107:\\n ', *map(lambda x: np.mean(x), rayl107), sep='  ')"
   ]
  },
  {
   "cell_type": "markdown",
   "metadata": {},
   "source": [
    "#### Истинное значение\n",
    "\n",
    "Как было найдено в 1-й домашней работе, для распределения Рэлея $ E\\xi = \\sqrt{\\dfrac{\\pi}{2}}\\sigma $. Так как $ \\sigma $ принята за 3, то $ E\\xi = \\sqrt{\\dfrac{\\pi}{2}}\\cdot 3 \\approx 3.75994 $.\n",
    "\n",
    "#### Свойства:\n",
    "**1) Состоятельность**\n",
    "\n",
    "**Оценка $\\overline{X} $ состоятельная**.\n",
    "\n",
    "Это следует из критерия состоятельности(см.выше): как видно по результатам вычислений, с увеличением объема выборки выборочное среднее приближается к этому значению.\n",
    "\n",
    "**2) Несмещенность**\n",
    "\n",
    "Оценка называется несмещенной, если ее мат.ожидание равно оцениваемому параметру: $ET(\\theta)=\\theta$\n",
    "\n",
    "Для распределения Рэлея $E\\xi=\\sqrt{\\dfrac{\\pi}{2}}\\sigma$:\n",
    "\n",
    "<a href=\"https://www.codecogs.com/eqnedit.php?latex=\\dpi{200}&space;\\fn_phv&space;\\tiny&space;E\\overline{X}=E\\left(\\dfrac{1}{n}\\cdot\\sum\\limits_{i=1}^n&space;x_i\\right)&space;=&space;\\dfrac{1}{n}\\cdot\\sum\\limits_{i=1}^n&space;E(x_i)&space;=&space;\\dfrac{1}{n}\\cdot&space;\\sum\\limits_{i=1}^n&space;\\sqrt{\\dfrac{\\pi}{2}}\\sigma&space;=&space;\\dfrac{1}{n}\\cdot&space;\\sqrt{\\dfrac{\\pi}{2}}&space;\\cdot&space;n&space;\\cdot&space;\\sigma&space;=&space;\\sqrt{\\dfrac{\\pi}{2}}&space;\\sigma&space;\\neq&space;\\sigma\" target=\"_blank\"><img src=\"https://latex.codecogs.com/png.latex?\\dpi{200}&space;\\fn_phv&space;\\tiny&space;E\\overline{X}=E\\left(\\dfrac{1}{n}\\cdot\\sum\\limits_{i=1}^n&space;x_i\\right)&space;=&space;\\dfrac{1}{n}\\cdot\\sum\\limits_{i=1}^n&space;E(x_i)&space;=&space;\\dfrac{1}{n}\\cdot&space;\\sum\\limits_{i=1}^n&space;\\sqrt{\\dfrac{\\pi}{2}}\\sigma&space;=&space;\\dfrac{1}{n}\\cdot&space;\\sqrt{\\dfrac{\\pi}{2}}&space;\\cdot&space;n&space;\\cdot&space;\\sigma&space;=&space;\\sqrt{\\dfrac{\\pi}{2}}&space;\\sigma&space;\\neq&space;\\sigma\" title=\"\\tiny E\\overline{X}=E\\left(\\dfrac{1}{n}\\cdot\\sum\\limits_{i=1}^n x_i\\right) = \\dfrac{1}{n}\\cdot\\sum\\limits_{i=1}^n E(x_i) = \\dfrac{1}{n}\\cdot \\sum\\limits_{i=1}^n \\sqrt{\\dfrac{\\pi}{2}}\\sigma = \\dfrac{1}{n}\\cdot \\sqrt{\\dfrac{\\pi}{2}} \\cdot n \\cdot \\sigma = \\sqrt{\\dfrac{\\pi}{2}} \\sigma \\neq \\sigma\" /></a>\n",
    "\n",
    "**Оценка $\\overline{X} $ смещенная**"
   ]
  },
  {
   "cell_type": "markdown",
   "metadata": {},
   "source": [
    "### 1.2 Выборочная дисперсия\n",
    "\n",
    "Является центральным выборочным моментом 2 порядка.\n",
    "\n",
    "<a href=\"https://www.codecogs.com/eqnedit.php?latex=\\dpi{200}&space;\\fn_phv&space;\\tiny&space;\\overline{S}^2&space;=&space;\\dfrac{1}{n}\\sum\\limits_{i=1}^n(x_i&space;-&space;\\overline{x})^2\" target=\"_blank\"><img src=\"https://latex.codecogs.com/png.latex?\\dpi{200}&space;\\fn_phv&space;\\tiny&space;\\overline{S}^2&space;=&space;\\dfrac{1}{n}\\sum\\limits_{i=1}^n(x_i&space;-&space;\\overline{x})^2\" title=\"\\tiny \\overline{S}^2 = \\dfrac{1}{n}\\sum\\limits_{i=1}^n(x_i - \\overline{x})^2\" /></a>, где $ \\overline{x} $ -- выборочное среднее.\n",
    "\n",
    "#### 1) Распределение Пуассона"
   ]
  },
  {
   "cell_type": "code",
   "execution_count": 49,
   "metadata": {},
   "outputs": [
    {
     "name": "stdout",
     "output_type": "stream",
     "text": [
      "Для выборок объемом 5:\n",
      "  [0.56, 0.4, 2.2399999999999998, 3.3600000000000003, 1.7600000000000002]\n",
      "Для выборок объемом 10:\n",
      "  [6.890000000000001, 1.2899999999999998, 2.29, 1.8399999999999999, 1.85]\n",
      "Для выборок объемом 100:\n",
      "  [3.309900000000001, 2.807499999999998, 2.5939000000000023, 2.539600000000001, 2.807499999999999]\n",
      "Для выборок объемом 100:\n",
      "  [2.7850789999999686, 2.900951000000022, 2.9188640000000006, 2.9444390000000067, 3.2993190000000134]\n",
      "Для выборок объемом 10 ** 5:\n",
      "  [3.014092047600012, 2.981006750398057, 3.013009372402252, 2.9723308400003967, 2.9981799295998357]\n"
     ]
    }
   ],
   "source": [
    "def s_variance(distr):\n",
    "    s_var = list()\n",
    "    for i in range(len(distr)):\n",
    "        s_mean = np.mean(distr[i])\n",
    "        l = list(map(lambda x: (x - s_mean) ** 2, distr[i]))\n",
    "        s_var.append(sum(l) / len(distr[i]))\n",
    "    return s_var\n",
    "\n",
    "print('Для выборок объемом 5:\\n ', s_variance(pois5))\n",
    "print('Для выборок объемом 10:\\n ', s_variance(pois10))\n",
    "print('Для выборок объемом 100:\\n ', s_variance(pois100))\n",
    "print('Для выборок объемом 100:\\n ', s_variance(pois1000))\n",
    "print('Для выборок объемом 10 ** 5:\\n ', s_variance(pois105))"
   ]
  },
  {
   "cell_type": "markdown",
   "metadata": {},
   "source": [
    "#### Истинное значение\n",
    "\n",
    "Для распределения Пуассона $ D\\xi = \\lambda $. Так как $ \\lambda $ принята за 3, то $ D\\xi = 3 $. \n",
    "\n",
    "#### Свойства:\n",
    "**1) Состоятельность**\n",
    "\n",
    "**Оценка $\\overline{S}^2 $ состоятельная**. Это следует из критерия состоятельности (см.выше): как видно по результатам вычислений, с увеличением объема выборки выборочное среднее приближается к этому значению.\n",
    "\n",
    "**2) Несмещенность**\n",
    "\n",
    "Оценка называется несмещенной, если ее мат.ожидание равно оцениваемому параметру: $ET(\\theta)=\\theta$\n",
    "\n",
    "Для распределения Пуассона $E\\xi=\\lambda, \\;\\;   D\\xi = \\lambda  $\n",
    "\n",
    "Преобразуем выражение для выборочной дисперсии:\n",
    "<a href=\"https://www.codecogs.com/eqnedit.php?latex=\\dpi{200}&space;\\fn_phv&space;\\tiny&space;\\overline{S}^2=\\dfrac{1}{n}\\sum\\limits_{i=1}^n\\left(x_i-\\overline(X)\\right)^2=&space;\\dfrac{1}{n}\\sum\\limits_{i=1}^n\\left((x_i-\\mu)-(\\overline{X}-\\mu)\\right)^2=&space;\\dfrac{1}{n}\\sum\\limits_{i=1}^n\\left(x_i-\\mu\\right)^2-2(\\overline{X}-m)\\sum\\limits_{i=1}^n(x_i-\\mu)&plus;\\sum\\limits_{i=1}^n\\left(\\overline{X}-\\mu\\right)^2=\\\\=&space;\\dfrac{1}{n}\\sum\\limits_{i=1}^n\\left(x_i-\\mu\\right)^2&space;-&space;2(\\overline{X}-m)^2&plus;\\dfrac{1}{n}n\\left(\\overline{X}-\\mu\\right)^2=&space;\\dfrac{1}{n}\\sum\\limits_{i=1}^n(x_i-\\mu)^2-(\\overline{X}-\\mu)^2\" target=\"_blank\"><img src=\"https://latex.codecogs.com/png.latex?\\dpi{200}&space;\\fn_phv&space;\\tiny&space;\\overline{S}^2=\\dfrac{1}{n}\\sum\\limits_{i=1}^n\\left(x_i-\\overline(X)\\right)^2=&space;\\dfrac{1}{n}\\sum\\limits_{i=1}^n\\left((x_i-\\mu)-(\\overline{X}-\\mu)\\right)^2=&space;\\dfrac{1}{n}\\sum\\limits_{i=1}^n\\left(x_i-\\mu\\right)^2-2(\\overline{X}-m)\\sum\\limits_{i=1}^n(x_i-\\mu)&plus;\\sum\\limits_{i=1}^n\\left(\\overline{X}-\\mu\\right)^2=\\\\=&space;\\dfrac{1}{n}\\sum\\limits_{i=1}^n\\left(x_i-\\mu\\right)^2&space;-&space;2(\\overline{X}-m)^2&plus;\\dfrac{1}{n}n\\left(\\overline{X}-\\mu\\right)^2=&space;\\dfrac{1}{n}\\sum\\limits_{i=1}^n(x_i-\\mu)^2-(\\overline{X}-\\mu)^2\" title=\"\\tiny \\overline{S}^2=\\dfrac{1}{n}\\sum\\limits_{i=1}^n\\left(x_i-\\overline(X)\\right)^2= \\dfrac{1}{n}\\sum\\limits_{i=1}^n\\left((x_i-\\mu)-(\\overline{X}-\\mu)\\right)^2= \\dfrac{1}{n}\\sum\\limits_{i=1}^n\\left(x_i-\\mu\\right)^2-2(\\overline{X}-m)\\sum\\limits_{i=1}^n(x_i-\\mu)+\\sum\\limits_{i=1}^n\\left(\\overline{X}-\\mu\\right)^2=\\\\= \\dfrac{1}{n}\\sum\\limits_{i=1}^n\\left(x_i-\\mu\\right)^2 - 2(\\overline{X}-m)^2+\\dfrac{1}{n}n\\left(\\overline{X}-\\mu\\right)^2= \\dfrac{1}{n}\\sum\\limits_{i=1}^n(x_i-\\mu)^2-(\\overline{X}-\\mu)^2\" /></a>\n",
    "\n",
    "Проверим на смещенность:\n",
    "\n",
    "<a href=\"https://www.codecogs.com/eqnedit.php?latex=\\dpi{200}&space;\\fn_phv&space;\\tiny&space;E\\overline{S}^2=&space;\\dfrac{1}{n}E\\sum\\limits_{i=1}^n(x_i-\\mu)^2-E(\\overline{X}-\\mu)^2=&space;\\dfrac{1}{n}\\sum\\limits_{i=1}^nE(x_i-\\mu)^2-E(\\overline{X}-\\mu)^2=&space;\\dfrac{1}{n}\\sum\\limits_{i=1}^nDx_i-D\\overline{X}=\\dfrac{1}{n}n&space;\\lambda&space;-&space;\\dfrac{1}{n}\\lambda=&space;\\dfrac{n-1}{n}\\lambda&space;\\neq&space;\\lambda\" target=\"_blank\"><img src=\"https://latex.codecogs.com/png.latex?\\dpi{200}&space;\\fn_phv&space;\\tiny&space;E\\overline{S}^2=&space;\\dfrac{1}{n}E\\sum\\limits_{i=1}^n(x_i-\\mu)^2-E(\\overline{X}-\\mu)^2=&space;\\dfrac{1}{n}\\sum\\limits_{i=1}^nE(x_i-\\mu)^2-E(\\overline{X}-\\mu)^2=&space;\\dfrac{1}{n}\\sum\\limits_{i=1}^nDx_i-D\\overline{X}=\\dfrac{1}{n}n&space;\\lambda&space;-&space;\\dfrac{1}{n}\\lambda=&space;\\dfrac{n-1}{n}\\lambda&space;\\neq&space;\\lambda\" title=\"\\tiny E\\overline{S}^2= \\dfrac{1}{n}E\\sum\\limits_{i=1}^n(x_i-\\mu)^2-E(\\overline{X}-\\mu)^2= \\dfrac{1}{n}\\sum\\limits_{i=1}^nE(x_i-\\mu)^2-E(\\overline{X}-\\mu)^2= \\dfrac{1}{n}\\sum\\limits_{i=1}^nDx_i-D\\overline{X}=\\dfrac{1}{n}n \\lambda - \\dfrac{1}{n}\\lambda= \\dfrac{n-1}{n}\\lambda \\neq \\lambda\" /></a>\n",
    "\n",
    "**Оценка $ \\overline{S}^2 $ смещенная**"
   ]
  },
  {
   "cell_type": "markdown",
   "metadata": {},
   "source": [
    "#### 2) Распределение Рэлея"
   ]
  },
  {
   "cell_type": "code",
   "execution_count": 51,
   "metadata": {},
   "outputs": [
    {
     "name": "stdout",
     "output_type": "stream",
     "text": [
      "Для выборок объемом 5:\n",
      "  [0.9129958311401702, 2.0038177488492934, 5.763941843041226, 0.7479501839204801, 0.5590856200941927]\n",
      "Для выборок объемом 10:\n",
      "  [0.6020410735116275, 3.6422704608732532, 4.303697226292157, 2.7318341090993616, 3.6216979182069102]\n",
      "Для выборок объемом 100:\n",
      "  [4.618306408671995, 3.5196575535149917, 3.2053833550779878, 4.305766911479806, 3.3090196770078304]\n",
      "Для выборок объемом 100:\n",
      "  [3.704580449802722, 3.611422509590182, 3.834995354302082, 3.7781831086134643, 3.831993324672659]\n",
      "Для выборок объемом 10 ** 5:\n",
      "  [3.8869450835184303, 3.837586084773818, 3.8674238085117296, 3.8625819947574653, 3.840440421904141]\n"
     ]
    }
   ],
   "source": [
    "print('Для выборок объемом 5:\\n ', s_variance(rayl5))\n",
    "print('Для выборок объемом 10:\\n ', s_variance(rayl10))\n",
    "print('Для выборок объемом 100:\\n ', s_variance(rayl100))\n",
    "print('Для выборок объемом 100:\\n ', s_variance(rayl1000))\n",
    "print('Для выборок объемом 10 ** 5:\\n ', s_variance(rayl105))"
   ]
  },
  {
   "cell_type": "markdown",
   "metadata": {},
   "source": [
    "#### Истинное значение\n",
    "\n",
    "Для распределения Рэлея $ D\\xi =  \\left(2-\\dfrac{\\pi}{2}\\right)\\sigma^2  $. Так как $ \\sigma $ принята за 3, то $ D\\xi = \\left(2-\\dfrac{\\pi}{2}\\right)\\cdot 3^2 \\approx 3.86283$. "
   ]
  },
  {
   "cell_type": "markdown",
   "metadata": {},
   "source": [
    "#### Свойства:\n",
    "**1) Состоятельность**\n",
    "\n",
    "**Оценка $\\overline{S}^2 $ состоятельная**. Это следует из критерия состоятельности (см.выше): как видно по результатам вычислений, с увеличением объема выборки выборочное среднее приближается к этому значению.\n",
    "\n",
    "**2) Несмещенность**\n",
    "\n",
    "Оценка называется несмещенной, если ее мат.ожидание равно оцениваемому параметру: $ET(\\theta)=\\theta$\n",
    "\n",
    "Для распределения Рэлея $E\\xi=\\sqrt{\\dfrac{\\pi}{2}}\\sigma, \\;\\;   D\\xi =  \\left(2-\\dfrac{\\pi}{2}\\right)\\sigma^2  $\n",
    "\n",
    "<a href=\"https://www.codecogs.com/eqnedit.php?latex=\\dpi{200}&space;\\fn_phv&space;\\tiny&space;E\\overline{S}^2=&space;\\dfrac{1}{n}E\\sum\\limits_{i=1}^n(x_i-\\mu)^2-E(\\overline{X}-\\mu)^2=&space;\\dfrac{1}{n}\\sum\\limits_{i=1}^nE(x_i-\\mu)^2-E(\\overline{X}-\\mu)^2=&space;\\dfrac{1}{n}\\sum\\limits_{i=1}^nDx_i-D\\overline{X}=\\dfrac{1}{n}n&space;\\left(2-\\dfrac{\\pi}{2}\\right)\\sigma^2&space;-&space;\\dfrac{1}{n}\\left(2-\\dfrac{\\pi}{2}\\right)\\sigma^2=\\\\=&space;\\dfrac{n-1}{n}\\left(2-\\dfrac{\\pi}{2}\\right)\\sigma^2&space;\\neq&space;\\left(2-\\dfrac{\\pi}{2}\\right)\\sigma^2\" target=\"_blank\"><img src=\"https://latex.codecogs.com/png.latex?\\dpi{200}&space;\\fn_phv&space;\\tiny&space;E\\overline{S}^2=&space;\\dfrac{1}{n}E\\sum\\limits_{i=1}^n(x_i-\\mu)^2-E(\\overline{X}-\\mu)^2=&space;\\dfrac{1}{n}\\sum\\limits_{i=1}^nE(x_i-\\mu)^2-E(\\overline{X}-\\mu)^2=&space;\\dfrac{1}{n}\\sum\\limits_{i=1}^nDx_i-D\\overline{X}=\\dfrac{1}{n}n&space;\\left(2-\\dfrac{\\pi}{2}\\right)\\sigma^2&space;-&space;\\dfrac{1}{n}\\left(2-\\dfrac{\\pi}{2}\\right)\\sigma^2=\\\\=&space;\\dfrac{n-1}{n}\\left(2-\\dfrac{\\pi}{2}\\right)\\sigma^2&space;\\neq&space;\\left(2-\\dfrac{\\pi}{2}\\right)\\sigma^2\" title=\"\\tiny E\\overline{S}^2= \\dfrac{1}{n}E\\sum\\limits_{i=1}^n(x_i-\\mu)^2-E(\\overline{X}-\\mu)^2= \\dfrac{1}{n}\\sum\\limits_{i=1}^nE(x_i-\\mu)^2-E(\\overline{X}-\\mu)^2= \\dfrac{1}{n}\\sum\\limits_{i=1}^nDx_i-D\\overline{X}=\\dfrac{1}{n}n \\left(2-\\dfrac{\\pi}{2}\\right)\\sigma^2 - \\dfrac{1}{n}\\left(2-\\dfrac{\\pi}{2}\\right)\\sigma^2=\\\\= \\dfrac{n-1}{n}\\left(2-\\dfrac{\\pi}{2}\\right)\\sigma^2 \\neq \\left(2-\\dfrac{\\pi}{2}\\right)\\sigma^2\" /></a>\n",
    "\n",
    "**Оценка $ \\overline{S}^2 $ смещенная**"
   ]
  },
  {
   "cell_type": "markdown",
   "metadata": {},
   "source": [
    "---\n",
    "## 2. Нахождение параметров распределений событий\n",
    "---"
   ]
  },
  {
   "cell_type": "markdown",
   "metadata": {},
   "source": [
    "### 2.1 Распределение Пуассона"
   ]
  },
  {
   "cell_type": "markdown",
   "metadata": {},
   "source": [
    "Найдем **эффективную** оценку.\n",
    "\n",
    "Функция максимального правдоподобия: \n",
    "\n",
    "<a href=\"https://www.codecogs.com/eqnedit.php?latex=\\dpi{200}&space;\\fn_phv&space;\\tiny&space;L(\\vec{x},&space;\\lambda)=\\prod\\limits_{i=1}^n&space;f(x_i,\\lambda)=\\prod_{i=1}^n\\dfrac{\\lambda^{x_i}}{x_i!}\\cdot&space;e^{-\\lambda}=e^{-n\\lambda}\\prod_{i=1}^n\\dfrac{\\lambda^{x_i}}{x_i!}\" target=\"_blank\"><img src=\"https://latex.codecogs.com/png.latex?\\dpi{200}&space;\\fn_phv&space;\\tiny&space;L(\\vec{x},&space;\\lambda)=\\prod\\limits_{i=1}^n&space;f(x_i,\\lambda)=\\prod_{i=1}^n\\dfrac{\\lambda^{x_i}}{x_i!}\\cdot&space;e^{-\\lambda}=e^{-n\\lambda}\\prod_{i=1}^n\\dfrac{\\lambda^{x_i}}{x_i!}\" title=\"\\tiny L(\\vec{x}, \\lambda)=\\prod\\limits_{i=1}^n f(x_i,\\lambda)=\\prod_{i=1}^n\\dfrac{\\lambda^{x_i}}{x_i!}\\cdot e^{-\\lambda}=e^{-n\\lambda}\\prod_{i=1}^n\\dfrac{\\lambda^{x_i}}{x_i!}\" /></a>\n",
    "\n",
    "<a href=\"https://www.codecogs.com/eqnedit.php?latex=\\dpi{200}&space;\\fn_phv&space;\\tiny&space;lnL=-n\\lambda&plus;ln\\lambda\\sum\\limits_{i=1}^n(x_i)-\\sum\\limits_{i=1}^n&space;ln(x_i)!\" target=\"_blank\"><img src=\"https://latex.codecogs.com/png.latex?\\dpi{200}&space;\\fn_phv&space;\\tiny&space;lnL=-n\\lambda&plus;ln\\lambda\\sum\\limits_{i=1}^n(x_i)-\\sum\\limits_{i=1}^n&space;ln(x_i)!\" title=\"\\tiny lnL=-n\\lambda+ln\\lambda\\sum\\limits_{i=1}^n(x_i)-\\sum\\limits_{i=1}^n ln(x_i)!\" /></a>\n",
    "\n",
    "Вклад выборки:\n",
    "\n",
    "<a href=\"https://www.codecogs.com/eqnedit.php?latex=\\dpi{200}&space;\\fn_phv&space;\\tiny&space;V(\\vec{x},&space;\\lambda)=0-n&plus;\\dfrac{1}{\\lambda}\\sum\\limits_{i=1}^nx_i-0\" target=\"_blank\"><img src=\"https://latex.codecogs.com/png.latex?\\dpi{200}&space;\\fn_phv&space;\\tiny&space;V(\\vec{x},&space;\\lambda)=0-n&plus;\\dfrac{1}{\\lambda}\\sum\\limits_{i=1}^nx_i-0\" title=\"\\tiny V(\\vec{x}, \\lambda)=0-n+\\dfrac{1}{\\lambda}\\sum\\limits_{i=1}^nx_i-0\" /></a>\n",
    "\n",
    "Приведем к виду $a(\\theta)V(\\overrightarrow{x}, \\theta)=T(x)-\\tau(\\theta)$:\n",
    "\n",
    "<a href=\"https://www.codecogs.com/eqnedit.php?latex=\\dpi{200}&space;\\fn_phv&space;\\tiny&space;\\dfrac{\\lambda}{n}V(\\vec{x},&space;\\lambda)=\\dfrac{1}{n}\\sum\\limits_{i=1}^nx_i-\\lambda\" target=\"_blank\"><img src=\"https://latex.codecogs.com/png.latex?\\dpi{200}&space;\\fn_phv&space;\\tiny&space;\\dfrac{\\lambda}{n}V(\\vec{x},&space;\\lambda)=\\dfrac{1}{n}\\sum\\limits_{i=1}^nx_i-\\lambda\" title=\"\\tiny \\dfrac{\\lambda}{n}V(\\vec{x}, \\lambda)=\\dfrac{1}{n}\\sum\\limits_{i=1}^nx_i-\\lambda\" /></a>\n",
    "\n",
    "Следовательно, <a href=\"https://www.codecogs.com/eqnedit.php?latex=\\inline&space;\\dpi{150}&space;\\tiny&space;\\dfrac{1}{n}\\sum\\limits_{i=1}^nx_i&space;=&space;\\overline{X}\" target=\"_blank\"><img src=\"https://latex.codecogs.com/png.latex?\\inline&space;\\dpi{150}&space;\\tiny&space;\\dfrac{1}{n}\\sum\\limits_{i=1}^nx_i&space;=&space;\\overline{X}\" title=\"\\tiny \\dfrac{1}{n}\\sum\\limits_{i=1}^nx_i = \\overline{X}\" /></a> -- эффективная и оптимальная оценка для параметра $\\lambda$. Она также является состоятельной и несмещенной, что было доказано для выборочного среднего выше."
   ]
  },
  {
   "cell_type": "markdown",
   "metadata": {},
   "source": [
    "Найдем оценку **методом моментов**.\n",
    "\n",
    "$\\alpha_1 = E\\xi = \\lambda$ -- первый момент.\n",
    "\n",
    "$\\widehat{\\alpha}_1 = \\overline{X}$ -- первый выборочный момент.\n",
    "\n",
    "Составим уравнение:\n",
    "\n",
    "<a href=\"https://www.codecogs.com/eqnedit.php?latex=\\dpi{200}&space;\\fn_phv&space;\\tiny&space;\\alpha_1&space;=&space;\\widehat{\\alpha}_1&space;\\Rightarrow&space;\\lambda&space;=&space;\\dfrac{1}{n}\\sum\\limits_{i=1}^n&space;x_i&space;=&space;\\overline{X}\" target=\"_blank\"><img src=\"https://latex.codecogs.com/png.latex?\\dpi{200}&space;\\fn_phv&space;\\tiny&space;\\alpha_1&space;=&space;\\widehat{\\alpha}_1&space;\\Rightarrow&space;\\lambda&space;=&space;\\dfrac{1}{n}\\sum\\limits_{i=1}^n&space;x_i&space;=&space;\\overline{X}\" title=\"\\tiny \\alpha_1 = \\widehat{\\alpha}_1 \\Rightarrow \\lambda = \\dfrac{1}{n}\\sum\\limits_{i=1}^n x_i = \\overline{X}\" /></a>.\n",
    "\n",
    "То есть оценка параметра $\\lambda$ -- это выборочное среднее."
   ]
  },
  {
   "cell_type": "markdown",
   "metadata": {},
   "source": [
    "**Сравнение оценок**\n",
    "\n",
    "Методом моментов и методом максимального правдоподобия были найдены одинаковые оценки, являющиеся эффективными, оптимальными, состоятельными и несмещенными."
   ]
  },
  {
   "cell_type": "markdown",
   "metadata": {},
   "source": [
    "### 2.2 Распределение Рэлея\n"
   ]
  },
  {
   "cell_type": "markdown",
   "metadata": {},
   "source": [
    "Найдем **эффективную** оценку\n",
    "\n",
    "Функция максимального правдоподобия:\n",
    "\n",
    "<a href=\"https://www.codecogs.com/eqnedit.php?latex=\\inline&space;\\dpi{200}&space;\\tiny&space;L(\\vec{x},&space;\\sigma)=\\prod\\limits_{i=1}^n&space;\\dfrac{x_i}{\\sigma^2}e^{-\\frac{x_i^2}{2\\sigma^2}}=&space;\\dfrac{1}{\\sigma^{2n}}\\prod\\limits_{i=1}^n&space;x_i&space;e^{-\\frac{x_i^2}{2\\sigma^2}}\" target=\"_blank\"><img src=\"https://latex.codecogs.com/png.latex?\\inline&space;\\dpi{200}&space;\\tiny&space;L(\\vec{x},&space;\\sigma)=\\prod\\limits_{i=1}^n&space;\\dfrac{x_i}{\\sigma^2}e^{-\\frac{x_i^2}{2\\sigma^2}}=&space;\\dfrac{1}{\\sigma^{2n}}\\prod\\limits_{i=1}^n&space;x_i&space;e^{-\\frac{x_i^2}{2\\sigma^2}}\" title=\"\\tiny L(\\vec{x}, \\sigma)=\\prod\\limits_{i=1}^n \\dfrac{x_i}{\\sigma^2}e^{-\\frac{x_i^2}{2\\sigma^2}}= \\dfrac{1}{\\sigma^{2n}}\\prod\\limits_{i=1}^n x_i e^{-\\frac{x_i^2}{2\\sigma^2}}\" /></a>\n",
    "\n",
    "<a href=\"https://www.codecogs.com/eqnedit.php?latex=\\dpi{200}&space;\\tiny&space;lnL=ln\\dfrac{1}{\\sigma^{2n}}&plus;\\sum\\limits_{i=1}^n\\left(lnx_i&space;-&space;\\dfrac{x_i^2}{2\\sigma^2}\\right)\" target=\"_blank\"><img src=\"https://latex.codecogs.com/png.latex?\\dpi{200}&space;\\tiny&space;lnL=ln\\dfrac{1}{\\sigma^{2n}}&plus;\\sum\\limits_{i=1}^n\\left(lnx_i&space;-&space;\\dfrac{x_i^2}{2\\sigma^2}\\right)\" title=\"\\tiny lnL=ln\\dfrac{1}{\\sigma^{2n}}+\\sum\\limits_{i=1}^n\\left(lnx_i - \\dfrac{x_i^2}{2\\sigma^2}\\right)\" /></a>\n",
    "\n",
    "<a href=\"https://www.codecogs.com/eqnedit.php?latex=\\dpi{200}&space;\\tiny&space;V(\\vec{x},&space;\\sigma)=-\\dfrac{2n}{\\sigma}&plus;\\dfrac{1}{\\sigma^2}\\sum\\limits_{i=1}x_i^2\" target=\"_blank\"><img src=\"https://latex.codecogs.com/png.latex?\\dpi{200}&space;\\tiny&space;V(\\vec{x},&space;\\sigma)=-\\dfrac{2n}{\\sigma}&plus;\\dfrac{1}{\\sigma^2}\\sum\\limits_{i=1}x_i^2\" title=\"\\tiny V(\\vec{x}, \\sigma)=-\\dfrac{2n}{\\sigma}+\\dfrac{1}{\\sigma^2}\\sum\\limits_{i=1}x_i^2\" /></a>\n",
    "<a href=\"https://www.codecogs.com/eqnedit.php?latex=\\dpi{200}&space;\\tiny&space;\\dfrac{\\sigma^3}{n}V(\\vec{x},&space;\\sigma)=-2\\sigma^2&plus;\\dfrac{1}{n}\\sum\\limits_{i=1}x_i^2\" target=\"_blank\"><img src=\"https://latex.codecogs.com/png.latex?\\dpi{200}&space;\\tiny&space;\\dfrac{\\sigma^3}{n}V(\\vec{x},&space;\\sigma)=-2\\sigma^2&plus;\\dfrac{1}{n}\\sum\\limits_{i=1}x_i^2\" title=\"\\tiny \\dfrac{\\sigma^3}{n}V(\\vec{x}, \\sigma)=-2\\sigma^2+\\dfrac{1}{n}\\sum\\limits_{i=1}x_i^2\" /></a>\n",
    "\n",
    "##### Итак, оценка <a href=\"https://www.codecogs.com/eqnedit.php?latex=\\dpi{200}&space;\\tiny&space;T(X)&space;=&space;\\dfrac{1}{n}\\sum\\limits_{i=1}x_i^2\" target=\"_blank\"><img src=\"https://latex.codecogs.com/gif.latex?\\dpi{200}&space;\\tiny&space;T(X)&space;=&space;\\dfrac{1}{n}\\sum\\limits_{i=1}x_i^2\" title=\"\\tiny T(X) = \\dfrac{1}{n}\\sum\\limits_{i=1}x_i^2\" /></a> для функции $\\tau(\\sigma) = 2\\sigma^2$ является эффективной и оптимальной.\n",
    "\n",
    "Далее необходимо решить задачу нахождения эффективной и оптимальной оценки для параметра $\\sigma$. \n",
    "\n"
   ]
  },
  {
   "cell_type": "markdown",
   "metadata": {},
   "source": [
    "Из того, что:\n",
    " - 1) $L(\\vec{x},\\sigma) = e^{-\\frac{1}{2\\sigma^2} \\sum\\limits_{i=1}^n x_i^2 + ln\\frac{1}{\\sigma^{2n}}} \\cdot e^{\\sum\\limits_{i=1}^n ln x_i}$, то есть имеет вид $L(\\vec{x},\\sigma) = e^{A(\\theta)T(\\widehat{X})-C(\\theta)} \\cdot e^{D(\\widehat{X})}$ и распределение принадлежит экспоненциальному семейству.\n",
    "  \n",
    " - 2) Модель регулярна\n",
    "\n",
    "следует, что эффективная оценка $T(X)$ является достаточной и полной достаточной статистикой. Оптимальной оценкой параметра будет являться некая функция от $T(X)$.\n",
    "\n",
    "Выразим параметр из полученной формулы:\n",
    "\n",
    "$\\widehat{\\sigma} = \\sqrt{\\dfrac{\\dfrac{1}{n}\\sum\\limits_{i=1}x_i^2}{2}} = \\tau^{-1}(T(X))$\n",
    "\n",
    "Так как была найдена эффективная оценка только для $2\\sigma^2$, то для нахождения оптимальной оценки для $\\sigma$ необходимо найти смещение этой оценки, то есть вычислить ее матожидание и найти коэффициент смещенности.\n",
    "\n",
    "Найдем функцию распределения $T(X):$\n",
    "\n",
    "$F(t) = P(x_i^2 < t) = P(x_i < \\sqrt{t}) = 1 - e^{-\\frac{t}{2\\sigma^2}}$\n",
    "\n",
    "Это распределение экспоненциально. Cумма независимых случайных экспоненциальных величин имеет распределение Гамма: $G(n, \\dfrac{1}{\\lambda})$, то есть в данном случае $G(n, 2\\sigma^2)$.\n",
    "\n",
    "$\\sum x_i^2 \\sim f(t) = \\dfrac{t^{n-1} e^{-\\frac{t}{2\\sigma^2}} }{(2\\sigma^2)^n (n-1)!}$\n",
    "\n",
    "$F_0(t) = F(t^2) = P(\\sqrt{\\sum x_i^2} < t) = P(\\sum x_i^2 < t^2)$\n",
    "\n",
    "$f_0(t) = F'_0(t)=2tf(t^2) = 2t \\dfrac{t^{2n-2} e^{-\\frac{t^2}{2\\sigma^2}} }{(2\\sigma^2)^n (n-1)!}$"
   ]
  },
  {
   "cell_type": "markdown",
   "metadata": {},
   "source": [
    "Найдем мат. ожидание для $T(X)$, чтобы получить коэффициент смещенности.\n",
    "\n",
    "<a href=\"https://www.codecogs.com/eqnedit.php?latex=\\dpi{200}&space;\\tiny&space;ET(X)&space;=&space;\\int\\limits_0^\\infty&space;t\\cdot&space;f_0(t)&space;dt&space;=&space;\\int\\limits_0^\\infty&space;t\\cdot&space;2t&space;\\dfrac{t^{2n-2}&space;e^{-\\frac{t^2}{2\\sigma^2}}&space;}{(2\\sigma^2)^n&space;(n-1)!}=&space;2\\int\\limits_0^\\infty&space;t^2&space;\\left(\\dfrac{t^2}{2\\sigma^2}\\right)^n&space;\\cdot&space;\\dfrac{1}{t^2}&space;\\cdot&space;\\dfrac{e^{-\\frac{t^2}{2\\sigma^2}}}{(n-1)!}&space;dt=\\\\=&space;\\bigg\\{&space;z&space;=&space;\\dfrac{t^2}{2\\sigma^2},&space;\\;\\;&space;t&space;=&space;\\sqrt{2z\\sigma^2},&space;\\;\\;&space;dt&space;=&space;\\dfrac{\\sigma^2}{t}dz&space;=&space;\\dfrac{\\sigma}{\\sqrt{2z}}\\bigg\\}=&space;2\\int\\limits_0^\\infty&space;z^n&space;\\cdot&space;\\dfrac{e^{-z}}{(n-1)!}&space;\\cdot&space;\\sigma&space;\\cdot&space;\\dfrac{1}{\\sqrt{2z}}&space;dz&space;=&space;\\\\=&space;\\dfrac{\\sqrt{2}}{(n-1)!}\\sigma&space;\\int\\limits_0^\\infty&space;z^{n-\\frac{1}{2}}e^{-z}dz&space;=&space;\\dfrac{\\sqrt{2}&space;G(n&plus;\\frac{1}{2})}{G(n)}\\sigma\" target=\"_blank\"><img src=\"https://latex.codecogs.com/gif.latex?\\dpi{200}&space;\\tiny&space;ET(X)&space;=&space;\\int\\limits_0^\\infty&space;t\\cdot&space;f_0(t)&space;dt&space;=&space;\\int\\limits_0^\\infty&space;t\\cdot&space;2t&space;\\dfrac{t^{2n-2}&space;e^{-\\frac{t^2}{2\\sigma^2}}&space;}{(2\\sigma^2)^n&space;(n-1)!}=&space;2\\int\\limits_0^\\infty&space;t^2&space;\\left(\\dfrac{t^2}{2\\sigma^2}\\right)^n&space;\\cdot&space;\\dfrac{1}{t^2}&space;\\cdot&space;\\dfrac{e^{-\\frac{t^2}{2\\sigma^2}}}{(n-1)!}&space;dt=\\\\=&space;\\bigg\\{&space;z&space;=&space;\\dfrac{t^2}{2\\sigma^2},&space;\\;\\;&space;t&space;=&space;\\sqrt{2z\\sigma^2},&space;\\;\\;&space;dt&space;=&space;\\dfrac{\\sigma^2}{t}dz&space;=&space;\\dfrac{\\sigma}{\\sqrt{2z}}\\bigg\\}=&space;2\\int\\limits_0^\\infty&space;z^n&space;\\cdot&space;\\dfrac{e^{-z}}{(n-1)!}&space;\\cdot&space;\\sigma&space;\\cdot&space;\\dfrac{1}{\\sqrt{2z}}&space;dz&space;=&space;\\\\=&space;\\dfrac{\\sqrt{2}}{(n-1)!}\\sigma&space;\\int\\limits_0^\\infty&space;z^{n-\\frac{1}{2}}e^{-z}dz&space;=&space;\\dfrac{\\sqrt{2}&space;G(n&plus;\\frac{1}{2})}{G(n)}\\sigma\" title=\"\\tiny ET(X) = \\int\\limits_0^\\infty t\\cdot f_0(t) dt = \\int\\limits_0^\\infty t\\cdot 2t \\dfrac{t^{2n-2} e^{-\\frac{t^2}{2\\sigma^2}} }{(2\\sigma^2)^n (n-1)!}= 2\\int\\limits_0^\\infty t^2 \\left(\\dfrac{t^2}{2\\sigma^2}\\right)^n \\cdot \\dfrac{1}{t^2} \\cdot \\dfrac{e^{-\\frac{t^2}{2\\sigma^2}}}{(n-1)!} dt=\\\\= \\bigg\\{ z = \\dfrac{t^2}{2\\sigma^2}, \\;\\; t = \\sqrt{2z\\sigma^2}, \\;\\; dt = \\dfrac{\\sigma^2}{t}dz = \\dfrac{\\sigma}{\\sqrt{2z}}\\bigg\\}= 2\\int\\limits_0^\\infty z^n \\cdot \\dfrac{e^{-z}}{(n-1)!} \\cdot \\sigma \\cdot \\dfrac{1}{\\sqrt{2z}} dz = \\\\= \\dfrac{\\sqrt{2}}{(n-1)!}\\sigma \\int\\limits_0^\\infty z^{n-\\frac{1}{2}}e^{-z}dz = \\dfrac{\\sqrt{2} G(n+\\frac{1}{2})}{G(n)}\\sigma\" /></a>\n",
    "\n",
    "Следовательно, несмещенной оценкой для $\\sigma$ является <a href=\"https://www.codecogs.com/eqnedit.php?latex=\\dpi{200}&space;\\tiny&space;\\tau^{-1}(T(X))&space;\\;\\;\\bigg/\\;\\;&space;\\dfrac{\\sqrt{2}&space;G(n&plus;0.5)}{G(n)}&space;=&space;\\dfrac{1}{2}\\cdot\\sqrt{\\dfrac{1}{n}\\sum\\limits_{i=1}^n&space;x_i^2}&space;\\cdot&space;\\dfrac{G(n)}{G(n&plus;0.5)}\" target=\"_blank\"><img src=\"https://latex.codecogs.com/gif.latex?\\dpi{200}&space;\\tiny&space;\\tau^{-1}(T(X))&space;\\;\\;\\bigg/\\;\\;&space;\\dfrac{\\sqrt{2}&space;G(n&plus;0.5)}{G(n)}&space;=&space;\\dfrac{1}{2}\\cdot\\sqrt{\\dfrac{1}{n}\\sum\\limits_{i=1}^n&space;x_i^2}&space;\\cdot&space;\\dfrac{G(n)}{G(n&plus;0.5)}\" title=\"\\tiny \\tau^{-1}(T(X)) \\;\\;\\bigg/\\;\\; \\dfrac{\\sqrt{2} G(n+0.5)}{G(n)} = \\dfrac{1}{2}\\cdot\\sqrt{\\dfrac{1}{n}\\sum\\limits_{i=1}^n x_i^2} \\cdot \\dfrac{G(n)}{G(n+0.5)}\" /></a>"
   ]
  },
  {
   "cell_type": "code",
   "execution_count": null,
   "metadata": {},
   "outputs": [],
   "source": []
  },
  {
   "cell_type": "markdown",
   "metadata": {},
   "source": [
    "Найдем оценку **методом моментов**.\n",
    "\n",
    "$\\alpha_1 = E\\xi = \\sqrt{\\dfrac{\\pi}{2}}\\sigma$ -- первый момент.\n",
    "\n",
    "$\\widehat{\\alpha}_1 = \\overline{X}$ -- первый выборочный момент.\n",
    "\n",
    "Составим уравнение: <a href=\"https://www.codecogs.com/eqnedit.php?latex=\\dpi{200}&space;\\tiny&space;\\alpha_1&space;=&space;\\widehat{\\alpha}_1&space;\\Rightarrow&space;\\sqrt{\\dfrac{\\pi}{2}}\\sigma&space;=&space;\\dfrac{1}{n}\\sum\\limits_{i=1}^n&space;x_i&space;=&space;\\overline{X}&space;\\Rightarrow&space;\\sigma&space;=&space;\\sqrt{\\dfrac{2}{\\pi}}\\overline{X}\" target=\"_blank\"><img src=\"https://latex.codecogs.com/gif.latex?\\dpi{200}&space;\\tiny&space;\\alpha_1&space;=&space;\\widehat{\\alpha}_1&space;\\Rightarrow&space;\\sqrt{\\dfrac{\\pi}{2}}\\sigma&space;=&space;\\dfrac{1}{n}\\sum\\limits_{i=1}^n&space;x_i&space;=&space;\\overline{X}&space;\\Rightarrow&space;\\sigma&space;=&space;\\sqrt{\\dfrac{2}{\\pi}}\\overline{X}\" title=\"\\tiny \\alpha_1 = \\widehat{\\alpha}_1 \\Rightarrow \\sqrt{\\dfrac{\\pi}{2}}\\sigma = \\dfrac{1}{n}\\sum\\limits_{i=1}^n x_i = \\overline{X} \\Rightarrow \\sigma = \\sqrt{\\dfrac{2}{\\pi}}\\overline{X}\" /></a>\n",
    "\n",
    "$\\widehat{\\sigma} = \\sqrt{\\dfrac{2}{\\pi}}\\overline{X}$ -- оценка параметра $\\sigma$."
   ]
  },
  {
   "cell_type": "code",
   "execution_count": 425,
   "metadata": {},
   "outputs": [
    {
     "name": "stdout",
     "output_type": "stream",
     "text": [
      "Была получена СТРАННАЯ оценка 0.34176906104283356 для параметра sigma = 5\n",
      "Методом моментов получена оценка 4.799052383197571\n"
     ]
    }
   ],
   "source": [
    "from scipy.special import gamma\n",
    "sigma = 5\n",
    "rayl150 = [] # Выборки объемом 5\n",
    "for i in range(5):\n",
    "    rayl150.append(rand_Rayl(sigma, 100))\n",
    "\n",
    "ex = rayl150[0]\n",
    "n = len(ex)\n",
    "s = sum(map(lambda x: x ** 2, ex))\n",
    "estim_mom = math.sqrt(2 / math.pi) * np.mean(ex)\n",
    "sigmaOPT = math.sqrt(s / n) * gamma(n) / (2 * gamma(n + 0.5))\n",
    "print('Была получена СТРАННАЯ оценка %r для параметра sigma = %r'%(sigmaOPT, sigma))\n",
    "print('Методом моментов получена оценка', estim_mom)"
   ]
  },
  {
   "cell_type": "markdown",
   "metadata": {},
   "source": [
    "---\n",
    "## 3. Работа с данными\n",
    "---"
   ]
  },
  {
   "cell_type": "markdown",
   "metadata": {},
   "source": [
    "#### 3.2 Распределение Рэлея\n",
    "\n",
    "Данные получены опытным путем в лучном тире. Каждая строчка -- серия выстрелов, элемент выборки -- расстояние от центра мишени до точки попадания стрелы в см."
   ]
  },
  {
   "cell_type": "code",
   "execution_count": 20,
   "metadata": {},
   "outputs": [],
   "source": [
    "my_rayl = [4,4,10,11,8,14,20]\n",
    "my_rayl += [11,17,15,14,18,22]\n",
    "my_rayl += [11,14.5,6,9,10,14]\n",
    "my_rayl += [10,6.3,8.2,5,8,12]\n",
    "my_rayl += [19.5,11,10,16.8,21,20]\n",
    "my_rayl += [18,9,9.8,12.1,13.8,15.6]\n",
    "my_rayl += [8,7.5,6,9.8,4.5,12.1]\n",
    "my_rayl += [2.5,3.5,10,11.5,10.8,18]\n",
    "my_rayl += [12,13,7,3,4.5,8.5]\n",
    "my_rayl += [2,6,8,10.5,11.3,23]"
   ]
  },
  {
   "cell_type": "code",
   "execution_count": 401,
   "metadata": {},
   "outputs": [
    {
     "name": "stdout",
     "output_type": "stream",
     "text": [
      "Выборочное среднее выборки: 11.009836065573769 \n",
      "Выборочная дисперсия выборки: 26.106460628863204\n",
      "-----------------------------\n",
      "Оценка sigma через метод моментов: 8.784578213691875 \n",
      "Оптимальная оценка sigma: 'do not know'\n",
      "-----------------------------\n"
     ]
    }
   ],
   "source": [
    "import numpy as np\n",
    "import math\n",
    "\n",
    "def F_rayl(x, sigma):\n",
    "    return 1 - math.exp(-(x ** 2) / (2 * sigma ** 2))\n",
    "\n",
    "s_mean = np.mean(my_rayl)  # Выборочное среднее\n",
    "variance = sum(list(map(lambda x: (x - s_mean) ** 2, my_rayl))) / len(my_rayl) # Дисперсия\n",
    "print('Выборочное среднее выборки: %r \\nВыборочная дисперсия выборки: %r'%(s_mean, variance))\n",
    "print('-----------------------------')\n",
    "\n",
    "\n",
    "estim_mom = math.sqrt(2 / math.pi) * s_mean\n",
    "estim_opt = 'do not know'\n",
    "print('Оценка sigma через метод моментов: %r \\nОптимальная оценка sigma: %r'%(estim_mom, estim_opt))\n",
    "print('-----------------------------')\n",
    "\n",
    "\n",
    "\n",
    "# print('Длина выборки:', len(my_rayl), '\\nsigma через выборочное среднее:', sigma_mean, '\\nsigma через выборочную дисперсию:', sigma_var)\n",
    "\n",
    "# my_sigma = estim_opt\n",
    "# print('Примем sigma как ее оптимальную оценку:' , my_sigma)\n",
    "# print('Вероятность попадания в центр мишени (желтое поле радиусом 4 см):', F_rayl(4, my_sigma))\n",
    "# print('Вероятность попадания в пределы красного поля (радиус 8):', F_rayl(8, my_sigma))\n",
    "# print('Вероятность попадания в пределы синего поля (радиус 12):', F_rayl(12, my_sigma))"
   ]
  },
  {
   "cell_type": "code",
   "execution_count": null,
   "metadata": {},
   "outputs": [],
   "source": []
  }
 ],
 "metadata": {
  "kernelspec": {
   "display_name": "Python 3",
   "language": "python",
   "name": "python3"
  },
  "language_info": {
   "codemirror_mode": {
    "name": "ipython",
    "version": 3
   },
   "file_extension": ".py",
   "mimetype": "text/x-python",
   "name": "python",
   "nbconvert_exporter": "python",
   "pygments_lexer": "ipython3",
   "version": "3.7.3"
  }
 },
 "nbformat": 4,
 "nbformat_minor": 4
}
